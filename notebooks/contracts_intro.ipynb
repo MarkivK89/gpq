{
 "cells": [
  {
   "cell_type": "markdown",
   "metadata": {},
   "source": [
    "# Introduction to US Federal Government Contracts"
   ]
  },
  {
   "cell_type": "markdown",
   "metadata": {},
   "source": [
    "* *This notebook is part of the [Government Procurement Queries](https://github.com/antontarasenko/gpq) project*"
   ]
  },
  {
   "cell_type": "markdown",
   "metadata": {},
   "source": [
    "## The Dataset"
   ]
  },
  {
   "cell_type": "markdown",
   "metadata": {},
   "source": [
    "The BigQuery dataset (17 years of data, 45mn transactions, $6.7tn worth of goods and services):\n",
    "\n",
    "- [gpqueries:contracts](https://bigquery.cloud.google.com/dataset/gpqueries:contracts)\n",
    "\n",
    "*Important:* You need a Google account and a Google Cloud project to access the data (both free). Google offers you to create a new project when you open BigQuery. Do it. Then you'll need to follow Google's instructions and enable BigQuery in this project."
   ]
  },
  {
   "cell_type": "markdown",
   "metadata": {},
   "source": [
    "## Table `gpqueries:contracts.raw`"
   ]
  },
  {
   "cell_type": "markdown",
   "metadata": {},
   "source": [
    "Table [`gpqueries:contracts.raw`](https://bigquery.cloud.google.com/table/gpqueries:contracts.raw) contains the unmodified data from the [USASpending.gov archives](https://www.usaspending.gov/DownloadCenter/Pages/dataarchives.aspx). It's constructed from `<year>_All_Contracts_Full_20160515.csv.zip` files and includes contracts from 2000 to May 15, 2016.\n",
    "\n",
    "Table `gpqueries:contracts.raw` contains 45M rows and 225 columns.\n",
    "\n",
    "Each row refers to a transaction (a purchase or refund) made by a federal agency. It may be a pizza or an airplane.\n",
    "\n",
    "The columns are grouped into categories:\n",
    "\n",
    "- Transaction: `unique_transaction_id`-`baseandalloptionsvalue`\n",
    "- Buyer (government agency): `maj_agency_cat`-`fundedbyforeignentity`\n",
    "- Dates: `signeddate`-`lastdatetoorder`, `last_modified_date`\n",
    "- Contract: `contractactiontype`-`programacronym`\n",
    "- Contractor (supplier, vendor): `vendorname`-`statecode`\n",
    "- Place of performance: `PlaceofPerformanceCity`-`placeofperformancecongressionaldistrict`\n",
    "- Product or service bought: `psc_cat`-`manufacturingorganizationtype`\n",
    "- General contract information: `agencyid`-`idvmodificationnumber`\n",
    "- Competitive procedure: `solicitationid`-`statutoryexceptiontofairopportunity`\n",
    "- Contractor details: `organizationaltype`-`otherstatutoryauthority`\n",
    "- Contractor's executives: `prime_awardee_executive1`-`interagencycontractingauthority`\n",
    "\n",
    "Detailed description for each variable is available in the official codebook:\n",
    "\n",
    "- [`USAspending.govDownloadsDataDictionary.pdf`](https://www.usaspending.gov/DownloadCenter/Documents/USAspending.govDownloadsDataDictionary.pdf)"
   ]
  },
  {
   "cell_type": "markdown",
   "metadata": {},
   "source": [
    "## Queries"
   ]
  },
  {
   "cell_type": "markdown",
   "metadata": {},
   "source": [
    "### BigQuery Web GUI"
   ]
  },
  {
   "cell_type": "markdown",
   "metadata": {},
   "source": [
    "You can execute queries mentioned here at <https://bigquery.cloud.google.com/table/gpqueries:contracts.raw> (press \"Compose query\")."
   ]
  },
  {
   "cell_type": "markdown",
   "metadata": {},
   "source": [
    "### Datalab"
   ]
  },
  {
   "cell_type": "markdown",
   "metadata": {},
   "source": [
    "This notebook was written in Google Datalab. You may need the libraries imported below to replicate it:"
   ]
  },
  {
   "cell_type": "code",
   "execution_count": 1,
   "metadata": {
    "collapsed": true
   },
   "outputs": [],
   "source": [
    "import gcp.bigquery as bq"
   ]
  },
  {
   "cell_type": "markdown",
   "metadata": {},
   "source": [
    "Within Datalab, you can define queries with [`sql` magic](https://github.com/catherinedevlin/ipython-sql) like this:"
   ]
  },
  {
   "cell_type": "code",
   "execution_count": 2,
   "metadata": {
    "collapsed": true
   },
   "outputs": [],
   "source": [
    "%%sql --module gpq\n",
    "\n",
    "define query totals\n",
    "select\n",
    "  count(*) transactions,\n",
    "  sum(dollarsobligated) sum_dollarsobligated,\n",
    "  count(unique(dunsnumber)) vendors,\n",
    "  count(unique(solicitationid)) purchase_procedures\n",
    "from \n",
    "  gpqueries:contracts.raw"
   ]
  },
  {
   "cell_type": "markdown",
   "metadata": {},
   "source": [
    "And execute with `bq` to get a dataframe:"
   ]
  },
  {
   "cell_type": "code",
   "execution_count": 3,
   "metadata": {
    "collapsed": false
   },
   "outputs": [
    {
     "data": {
      "text/html": [
       "<div>\n",
       "<table border=\"1\" class=\"dataframe\">\n",
       "  <thead>\n",
       "    <tr style=\"text-align: right;\">\n",
       "      <th></th>\n",
       "      <th>transactions</th>\n",
       "      <th>sum_dollarsobligated</th>\n",
       "      <th>vendors</th>\n",
       "      <th>purchase_procedures</th>\n",
       "    </tr>\n",
       "  </thead>\n",
       "  <tbody>\n",
       "    <tr>\n",
       "      <th>0</th>\n",
       "      <td>44500941</td>\n",
       "      <td>6.653578e+12</td>\n",
       "      <td>621532</td>\n",
       "      <td>2223674</td>\n",
       "    </tr>\n",
       "  </tbody>\n",
       "</table>\n",
       "</div>"
      ],
      "text/plain": [
       "   transactions  sum_dollarsobligated  vendors  purchase_procedures\n",
       "0      44500941          6.653578e+12   621532              2223674"
      ]
     },
     "execution_count": 3,
     "metadata": {},
     "output_type": "execute_result"
    }
   ],
   "source": [
    "bq.Query(gpq.totals).to_dataframe()"
   ]
  },
  {
   "cell_type": "markdown",
   "metadata": {},
   "source": [
    "Which means we're dealing with 44.5M transactions totalling 6.7 trillion dollars. These purchases came from 622k vendors that won 2.2mn solicitations issued by government agencies."
   ]
  },
  {
   "cell_type": "markdown",
   "metadata": {},
   "source": [
    "## Data Mining Government Clients"
   ]
  },
  {
   "cell_type": "markdown",
   "metadata": {},
   "source": [
    "Suppose you want to start selling to the government. While [FBO.gov](http://www.fbo.gov/) publishes government RFPs and you can apply there, government agencies often issue requests when they've already chosen the supplier. Agencies go through FBO.gov because it's a mandatory step for deals north of $25K. But winning at this stage is unlikely if an RFP is already tailored for another supplier.\n",
    "\n",
    "Reaching warm leads in advance would increase chances of winning a government contract. The contracts data helps identify the warm leads by looking at purchases in the previous years.\n",
    "\n",
    "There're several ways of searching through those years."
   ]
  },
  {
   "cell_type": "markdown",
   "metadata": {},
   "source": [
    "### Who Buys What You Make"
   ]
  },
  {
   "cell_type": "markdown",
   "metadata": {},
   "source": [
    "The goods and services bought in each transaction are encoded in the variable `productorservicecode`. Top ten product categories according to this variable:"
   ]
  },
  {
   "cell_type": "code",
   "execution_count": 4,
   "metadata": {
    "collapsed": false
   },
   "outputs": [
    {
     "data": {
      "text/html": [
       "\n",
       "    <div class=\"bqtv\" id=\"1_146516669151\"><table><tr><th>product_id</th><th>product_name</th><th>transactions</th><th>sum_dollarsobligated</th></tr><tr><td>1510</td><td>AIRCRAFT, FIXED WING</td><td>34373</td><td>2.84778910095e+11</td></tr><tr><td>M181</td><td>OPER OF GOVT R&amp;D GOCO FACILITIES</td><td>11705</td><td>2.09034830695e+11</td></tr><tr><td>R425</td><td>ENGINEERING AND TECHNICAL SERVICES</td><td>540128</td><td>2.01977381246e+11</td></tr><tr><td>D399</td><td>OTHER ADP &amp; TELECOMMUNICATIONS SVCS</td><td>544069</td><td>1.79749708292e+11</td></tr><tr><td>R499</td><td>OTHER PROFESSIONAL SERVICES</td><td>821788</td><td>1.63569940538e+11</td></tr><tr><td>9130</td><td>LIQUID PROPELLANTS -PETROLEUM BASE</td><td>193267</td><td>1.47092818248e+11</td></tr><tr><td>Q201</td><td>GENERAL HEALTH CARE SERVICES</td><td>157188</td><td>1.43893967601e+11</td></tr><tr><td>6505</td><td>DRUGS AND BIOLOGICALS</td><td>1857244</td><td>1.40279701467e+11</td></tr><tr><td>R706</td><td>LOGISTICS SUPPORT SERVICES</td><td>147238</td><td>1.17202582504e+11</td></tr><tr><td>R408</td><td>PROGRAM MANAGEMENT/SUPPORT SERVICES</td><td>270904</td><td>89610029462.5</td></tr></table></div>\n",
       "    <br />(rows: 10, time: 0.6s, cached, job: job_5OYeRQNV79dkoo0LffBT7Ba6N2Y)<br />\n",
       "    <script>\n",
       "      require(['extensions/charting', 'element!1_146516669151', 'style!/static/extensions/charting.css'],\n",
       "        function(charts, dom) {\n",
       "          charts.render(dom,\n",
       "            {\n",
       "              chartStyle:\"table\",\n",
       "              dataName:\"0\",\n",
       "              fields:\"product_id,product_name,transactions,sum_dollarsobligated\",\n",
       "              totalRows:10,\n",
       "              rowsPerPage:25,\n",
       "            }, {}, {\"rows\": [{\"c\": [{\"v\": \"1510\"}, {\"v\": \"AIRCRAFT, FIXED WING\"}, {\"v\": 34373}, {\"v\": 284778910095.4602}]}, {\"c\": [{\"v\": \"M181\"}, {\"v\": \"OPER OF GOVT R&D GOCO FACILITIES\"}, {\"v\": 11705}, {\"v\": 209034830694.56012}]}, {\"c\": [{\"v\": \"R425\"}, {\"v\": \"ENGINEERING AND TECHNICAL SERVICES\"}, {\"v\": 540128}, {\"v\": 201977381245.85016}]}, {\"c\": [{\"v\": \"D399\"}, {\"v\": \"OTHER ADP & TELECOMMUNICATIONS SVCS\"}, {\"v\": 544069}, {\"v\": 179749708292.17014}]}, {\"c\": [{\"v\": \"R499\"}, {\"v\": \"OTHER PROFESSIONAL SERVICES\"}, {\"v\": 821788}, {\"v\": 163569940537.66}]}, {\"c\": [{\"v\": \"9130\"}, {\"v\": \"LIQUID PROPELLANTS -PETROLEUM BASE\"}, {\"v\": 193267}, {\"v\": 147092818247.84}]}, {\"c\": [{\"v\": \"Q201\"}, {\"v\": \"GENERAL HEALTH CARE SERVICES\"}, {\"v\": 157188}, {\"v\": 143893967601.05005}]}, {\"c\": [{\"v\": \"6505\"}, {\"v\": \"DRUGS AND BIOLOGICALS\"}, {\"v\": 1857244}, {\"v\": 140279701466.84018}]}, {\"c\": [{\"v\": \"R706\"}, {\"v\": \"LOGISTICS SUPPORT SERVICES\"}, {\"v\": 147238}, {\"v\": 117202582503.7199}]}, {\"c\": [{\"v\": \"R408\"}, {\"v\": \"PROGRAM MANAGEMENT/SUPPORT SERVICES\"}, {\"v\": 270904}, {\"v\": 89610029462.46996}]}], \"cols\": [{\"type\": \"string\", \"id\": \"product_id\", \"label\": \"product_id\"}, {\"type\": \"string\", \"id\": \"product_name\", \"label\": \"product_name\"}, {\"type\": \"number\", \"id\": \"transactions\", \"label\": \"transactions\"}, {\"type\": \"number\", \"id\": \"sum_dollarsobligated\", \"label\": \"sum_dollarsobligated\"}]});\n",
       "        }\n",
       "      );\n",
       "    </script>\n",
       "  "
      ],
      "text/plain": [
       "QueryResultsTable job_5OYeRQNV79dkoo0LffBT7Ba6N2Y"
      ]
     },
     "execution_count": 4,
     "metadata": {},
     "output_type": "execute_result"
    }
   ],
   "source": [
    "%%sql\n",
    "select\n",
    "  substr(productorservicecode, 1, 4) product_id,\n",
    "  first(substr(productorservicecode, 7)) product_name,\n",
    "  count(*) transactions,\n",
    "  sum(dollarsobligated) sum_dollarsobligated\n",
    "from\n",
    "  gpqueries:contracts.raw\n",
    "group by\n",
    "  product_id\n",
    "order by\n",
    "  sum_dollarsobligated desc\n",
    "limit 10"
   ]
  },
  {
   "cell_type": "markdown",
   "metadata": {},
   "source": [
    "You can find agencies that buy products like yours. If it's \"software\":"
   ]
  },
  {
   "cell_type": "code",
   "execution_count": 5,
   "metadata": {
    "collapsed": false
   },
   "outputs": [
    {
     "data": {
      "text/html": [
       "\n",
       "    <div class=\"bqtv\" id=\"2_146516669255\"><table><tr><th>agency_id</th><th>agency_name</th><th>transactions</th><th>sum_dollarsobligated</th></tr><tr><td>9700</td><td>DEPT OF DEFENSE</td><td>245015</td><td>31756394755.4</td></tr><tr><td>3600</td><td>VETERANS AFFAIRS, DEPARTMENT OF</td><td>21223</td><td>3213678011.54</td></tr><tr><td>2050</td><td>INTERNAL REVENUE SERVICE</td><td>13292</td><td>2625458725.97</td></tr><tr><td>2800</td><td>SOCIAL SECURITY ADMINISTRATION</td><td>7038</td><td>2383445352.45</td></tr><tr><td>4735</td><td>FEDERAL ACQUISITION SERVICE</td><td>15064</td><td>2374494872.16</td></tr><tr><td>7014</td><td>U.S. CUSTOMS AND BORDER PROTECTION</td><td>3456</td><td>1816831446.67</td></tr><tr><td>1900</td><td>STATE, DEPARTMENT OF</td><td>14964</td><td>1395765461.73</td></tr><tr><td>1549</td><td>FEDERAL BUREAU OF INVESTIGATION</td><td>4673</td><td>1104923392.94</td></tr><tr><td>7001</td><td>OFFICE OF PROCUREMENT OPERATIONS</td><td>2604</td><td>1076395157.89</td></tr><tr><td>1501</td><td>OFFICES, BOARDS AND DIVISIONS</td><td>4617</td><td>1057842936.58</td></tr><tr><td>1205</td><td>USDA, OFFICE OF THE CHIEF FINANCIAL OFFICER</td><td>7812</td><td>943296547.34</td></tr><tr><td>7529</td><td>NATIONAL INSTITUTES OF HEALTH</td><td>8434</td><td>829980910.42</td></tr><tr><td>6800</td><td>ENVIRONMENTAL PROTECTION AGENCY</td><td>8291</td><td>790956089.3</td></tr><tr><td>4732</td><td>FEDERAL ACQUISITION SERVICE</td><td>3335</td><td>766033684.66</td></tr><tr><td>7013</td><td>TRANSPORTATION SECURITY ADMINISTRATION</td><td>2182</td><td>740364381.42</td></tr><tr><td>1406</td><td>OFFICE OF POLICY, BUDGET AND ADMINISTRATION</td><td>5080</td><td>724577419.11</td></tr><tr><td>1323</td><td>BUREAU OF THE CENSUS</td><td>3101</td><td>591701336.21</td></tr><tr><td>2036</td><td>BUREAU OF THE FISCAL SERVICE</td><td>7385</td><td>582297546.58</td></tr><tr><td>1330</td><td>NATIONAL OCEANIC AND ATMOSPHERIC ADMINISTRATION</td><td>10758</td><td>578208631.36</td></tr><tr><td>7008</td><td>U.S. COAST GUARD</td><td>4265</td><td>574943946.72</td></tr><tr><td>6920</td><td>FEDERAL AVIATION ADMINISTRATION</td><td>1491</td><td>534520819.72</td></tr><tr><td>7530</td><td>CENTERS FOR MEDICARE AND MEDICAID SERVICES</td><td>926</td><td>519913926.84</td></tr><tr><td>1344</td><td>PATENT AND TRADEMARK OFFICE</td><td>3382</td><td>443011847.34</td></tr><tr><td>7012</td><td>U.S. IMMIGRATION AND CUSTOMS ENFORCEMENT</td><td>2989</td><td>441316095.41</td></tr><tr><td>8000</td><td>NATIONAL AERONAUTICS AND SPACE ADMINISTRATION</td><td>10679</td><td>430834604.06</td></tr></table></div>\n",
       "    <br />(rows: 206, time: 0.6s, cached, job: job_1jg_ZQ5tFKg8pHFGX6fnuYGiDaY)<br />\n",
       "    <script>\n",
       "      require(['extensions/charting', 'element!2_146516669255', 'style!/static/extensions/charting.css'],\n",
       "        function(charts, dom) {\n",
       "          charts.render(dom,\n",
       "            {\n",
       "              chartStyle:\"paged_table\",\n",
       "              dataName:\"1\",\n",
       "              fields:\"agency_id,agency_name,transactions,sum_dollarsobligated\",\n",
       "              totalRows:206,\n",
       "              rowsPerPage:25,\n",
       "            }, {}, {\"rows\": [{\"c\": [{\"v\": \"9700\"}, {\"v\": \"DEPT OF DEFENSE\"}, {\"v\": 245015}, {\"v\": 31756394755.40001}]}, {\"c\": [{\"v\": \"3600\"}, {\"v\": \"VETERANS AFFAIRS, DEPARTMENT OF\"}, {\"v\": 21223}, {\"v\": 3213678011.5399985}]}, {\"c\": [{\"v\": \"2050\"}, {\"v\": \"INTERNAL REVENUE SERVICE\"}, {\"v\": 13292}, {\"v\": 2625458725.9700017}]}, {\"c\": [{\"v\": \"2800\"}, {\"v\": \"SOCIAL SECURITY ADMINISTRATION\"}, {\"v\": 7038}, {\"v\": 2383445352.4499993}]}, {\"c\": [{\"v\": \"4735\"}, {\"v\": \"FEDERAL ACQUISITION SERVICE\"}, {\"v\": 15064}, {\"v\": 2374494872.159998}]}, {\"c\": [{\"v\": \"7014\"}, {\"v\": \"U.S. CUSTOMS AND BORDER PROTECTION\"}, {\"v\": 3456}, {\"v\": 1816831446.6699998}]}, {\"c\": [{\"v\": \"1900\"}, {\"v\": \"STATE, DEPARTMENT OF\"}, {\"v\": 14964}, {\"v\": 1395765461.7299995}]}, {\"c\": [{\"v\": \"1549\"}, {\"v\": \"FEDERAL BUREAU OF INVESTIGATION\"}, {\"v\": 4673}, {\"v\": 1104923392.9399993}]}, {\"c\": [{\"v\": \"7001\"}, {\"v\": \"OFFICE OF PROCUREMENT OPERATIONS\"}, {\"v\": 2604}, {\"v\": 1076395157.890001}]}, {\"c\": [{\"v\": \"1501\"}, {\"v\": \"OFFICES, BOARDS AND DIVISIONS\"}, {\"v\": 4617}, {\"v\": 1057842936.5800005}]}, {\"c\": [{\"v\": \"1205\"}, {\"v\": \"USDA, OFFICE OF THE CHIEF FINANCIAL OFFICER\"}, {\"v\": 7812}, {\"v\": 943296547.3400006}]}, {\"c\": [{\"v\": \"7529\"}, {\"v\": \"NATIONAL INSTITUTES OF HEALTH\"}, {\"v\": 8434}, {\"v\": 829980910.4200011}]}, {\"c\": [{\"v\": \"6800\"}, {\"v\": \"ENVIRONMENTAL PROTECTION AGENCY\"}, {\"v\": 8291}, {\"v\": 790956089.2999991}]}, {\"c\": [{\"v\": \"4732\"}, {\"v\": \"FEDERAL ACQUISITION SERVICE\"}, {\"v\": 3335}, {\"v\": 766033684.66}]}, {\"c\": [{\"v\": \"7013\"}, {\"v\": \"TRANSPORTATION SECURITY ADMINISTRATION\"}, {\"v\": 2182}, {\"v\": 740364381.4200004}]}, {\"c\": [{\"v\": \"1406\"}, {\"v\": \"OFFICE OF POLICY, BUDGET AND ADMINISTRATION\"}, {\"v\": 5080}, {\"v\": 724577419.1099998}]}, {\"c\": [{\"v\": \"1323\"}, {\"v\": \"BUREAU OF THE CENSUS\"}, {\"v\": 3101}, {\"v\": 591701336.2099986}]}, {\"c\": [{\"v\": \"2036\"}, {\"v\": \"BUREAU OF THE FISCAL SERVICE\"}, {\"v\": 7385}, {\"v\": 582297546.5800003}]}, {\"c\": [{\"v\": \"1330\"}, {\"v\": \"NATIONAL OCEANIC AND ATMOSPHERIC ADMINISTRATION\"}, {\"v\": 10758}, {\"v\": 578208631.3599999}]}, {\"c\": [{\"v\": \"7008\"}, {\"v\": \"U.S. COAST GUARD\"}, {\"v\": 4265}, {\"v\": 574943946.7199997}]}, {\"c\": [{\"v\": \"6920\"}, {\"v\": \"FEDERAL AVIATION ADMINISTRATION\"}, {\"v\": 1491}, {\"v\": 534520819.71999973}]}, {\"c\": [{\"v\": \"7530\"}, {\"v\": \"CENTERS FOR MEDICARE AND MEDICAID SERVICES\"}, {\"v\": 926}, {\"v\": 519913926.84}]}, {\"c\": [{\"v\": \"1344\"}, {\"v\": \"PATENT AND TRADEMARK OFFICE\"}, {\"v\": 3382}, {\"v\": 443011847.34}]}, {\"c\": [{\"v\": \"7012\"}, {\"v\": \"U.S. IMMIGRATION AND CUSTOMS ENFORCEMENT\"}, {\"v\": 2989}, {\"v\": 441316095.4100002}]}, {\"c\": [{\"v\": \"8000\"}, {\"v\": \"NATIONAL AERONAUTICS AND SPACE ADMINISTRATION\"}, {\"v\": 10679}, {\"v\": 430834604.05999947}]}], \"cols\": [{\"type\": \"string\", \"id\": \"agency_id\", \"label\": \"agency_id\"}, {\"type\": \"string\", \"id\": \"agency_name\", \"label\": \"agency_name\"}, {\"type\": \"number\", \"id\": \"transactions\", \"label\": \"transactions\"}, {\"type\": \"number\", \"id\": \"sum_dollarsobligated\", \"label\": \"sum_dollarsobligated\"}]});\n",
       "        }\n",
       "      );\n",
       "    </script>\n",
       "  "
      ],
      "text/plain": [
       "QueryResultsTable job_1jg_ZQ5tFKg8pHFGX6fnuYGiDaY"
      ]
     },
     "execution_count": 5,
     "metadata": {},
     "output_type": "execute_result"
    }
   ],
   "source": [
    "%%sql\n",
    "select\n",
    "  substr(agencyid, 1, 4) agency_id,\n",
    "  first(substr(agencyid, 7)) agency_name,\n",
    "  count(*) transactions,\n",
    "  sum(dollarsobligated) sum_dollarsobligated\n",
    "from\n",
    "  gpqueries:contracts.raw\n",
    "where\n",
    "  productorservicecode contains 'software'\n",
    "group by\n",
    "  agency_id\n",
    "order by\n",
    "  sum_dollarsobligated desc\n",
    "ignore case"
   ]
  },
  {
   "cell_type": "markdown",
   "metadata": {},
   "source": [
    "### What Firms in Your Industry Sell to the Government"
   ]
  },
  {
   "cell_type": "markdown",
   "metadata": {},
   "source": [
    "Another way to find customers is the variable `principalnaicscode` that encodes the industry in which the vendor does business.\n",
    "\n",
    "The list of NAICS codes is available at [Census.gov](http://www.census.gov/cgi-bin/sssd/naics/naicsrch?chart=2012), but you can do text search in the table. Let's find who bought software from distributors in 2015:"
   ]
  },
  {
   "cell_type": "code",
   "execution_count": 6,
   "metadata": {
    "collapsed": false
   },
   "outputs": [
    {
     "data": {
      "text/html": [
       "\n",
       "    <div class=\"bqtv\" id=\"3_146516669403\"><table><tr><th>agency_id</th><th>agency_name</th><th>naics_id</th><th>naics_name</th><th>transactions</th><th>sum_dollarsobligated</th></tr><tr><td>9700</td><td>DEPT OF DEFENSE</td><td>511210</td><td>SOFTWARE PUBLISHERS</td><td>7907</td><td>1086588808.06</td></tr><tr><td>9700</td><td>DEPT OF DEFENSE</td><td>443120</td><td>COMPUTER AND SOFTWARE STORES</td><td>5313</td><td>451131013.69</td></tr><tr><td>9700</td><td>DEPT OF DEFENSE</td><td>423430</td><td>COMPUTER AND COMPUTER PERIPHERAL EQUIPMENT AND SOFTWARE MERCHANT WHOLESALERS</td><td>2073</td><td>246620960.81</td></tr><tr><td>7014</td><td>U.S. CUSTOMS AND BORDER PROTECTION</td><td>443120</td><td>COMPUTER AND SOFTWARE STORES</td><td>294</td><td>195178029.07</td></tr><tr><td>2800</td><td>SOCIAL SECURITY ADMINISTRATION</td><td>443120</td><td>COMPUTER AND SOFTWARE STORES</td><td>201</td><td>165682384.14</td></tr><tr><td>2050</td><td>INTERNAL REVENUE SERVICE</td><td>443120</td><td>COMPUTER AND SOFTWARE STORES</td><td>272</td><td>105303702.28</td></tr><tr><td>1549</td><td>FEDERAL BUREAU OF INVESTIGATION</td><td>443120</td><td>COMPUTER AND SOFTWARE STORES</td><td>147</td><td>94253371.19</td></tr><tr><td>1900</td><td>STATE, DEPARTMENT OF</td><td>443120</td><td>COMPUTER AND SOFTWARE STORES</td><td>1196</td><td>91138323.46</td></tr><tr><td>2800</td><td>SOCIAL SECURITY ADMINISTRATION</td><td>511210</td><td>SOFTWARE PUBLISHERS</td><td>244</td><td>89509652.8</td></tr><tr><td>3600</td><td>VETERANS AFFAIRS, DEPARTMENT OF</td><td>511210</td><td>SOFTWARE PUBLISHERS</td><td>630</td><td>87867702.88</td></tr><tr><td>7001</td><td>OFFICE OF PROCUREMENT OPERATIONS</td><td>443120</td><td>COMPUTER AND SOFTWARE STORES</td><td>115</td><td>85158432.43</td></tr><tr><td>2050</td><td>INTERNAL REVENUE SERVICE</td><td>511210</td><td>SOFTWARE PUBLISHERS</td><td>321</td><td>82585967.45</td></tr><tr><td>6920</td><td>FEDERAL AVIATION ADMINISTRATION</td><td>423430</td><td>COMPUTER AND COMPUTER PERIPHERAL EQUIPMENT AND SOFTWARE MERCHANT WHOLESALERS</td><td>320</td><td>81678563.94</td></tr><tr><td>1501</td><td>OFFICES, BOARDS AND DIVISIONS</td><td>443120</td><td>COMPUTER AND SOFTWARE STORES</td><td>124</td><td>75303017.16</td></tr><tr><td>7013</td><td>TRANSPORTATION SECURITY ADMINISTRATION</td><td>443120</td><td>COMPUTER AND SOFTWARE STORES</td><td>130</td><td>72338222.09</td></tr><tr><td>1344</td><td>PATENT AND TRADEMARK OFFICE</td><td>443120</td><td>COMPUTER AND SOFTWARE STORES</td><td>179</td><td>60555711.83</td></tr><tr><td>1900</td><td>STATE, DEPARTMENT OF</td><td>423430</td><td>COMPUTER AND COMPUTER PERIPHERAL EQUIPMENT AND SOFTWARE MERCHANT WHOLESALERS</td><td>1449</td><td>59498401.27</td></tr><tr><td>9700</td><td>DEPT OF DEFENSE</td><td>334614</td><td>SOFTWARE AND OTHER PRERECORDED COMPACT DISC, TAPE, AND RECORD REPRODUCING </td><td>847</td><td>54775397.52</td></tr><tr><td>7529</td><td>NATIONAL INSTITUTES OF HEALTH</td><td>443120</td><td>COMPUTER AND SOFTWARE STORES</td><td>212</td><td>54773671.43</td></tr><tr><td>1900</td><td>STATE, DEPARTMENT OF</td><td>511210</td><td>SOFTWARE PUBLISHERS</td><td>357</td><td>39829177.68</td></tr><tr><td>6800</td><td>ENVIRONMENTAL PROTECTION AGENCY</td><td>443120</td><td>COMPUTER AND SOFTWARE STORES</td><td>260</td><td>39649773.39</td></tr><tr><td>7200</td><td>AGENCY FOR INTERNATIONAL DEVELOPMENT</td><td>443120</td><td>COMPUTER AND SOFTWARE STORES</td><td>63</td><td>37272308.46</td></tr><tr><td>1205</td><td>USDA, OFFICE OF THE CHIEF FINANCIAL OFFICER</td><td>443120</td><td>COMPUTER AND SOFTWARE STORES</td><td>263</td><td>35421398.98</td></tr><tr><td>3600</td><td>VETERANS AFFAIRS, DEPARTMENT OF</td><td>443120</td><td>COMPUTER AND SOFTWARE STORES</td><td>471</td><td>34401225.47</td></tr><tr><td>4732</td><td>FEDERAL ACQUISITION SERVICE</td><td>443120</td><td>COMPUTER AND SOFTWARE STORES</td><td>757</td><td>34066865.64</td></tr></table></div>\n",
       "    <br />(rows: 463, time: 1.0s, cached, job: job_tyO5qqBhadXXwwH8p2u9qTutzoA)<br />\n",
       "    <script>\n",
       "      require(['extensions/charting', 'element!3_146516669403', 'style!/static/extensions/charting.css'],\n",
       "        function(charts, dom) {\n",
       "          charts.render(dom,\n",
       "            {\n",
       "              chartStyle:\"paged_table\",\n",
       "              dataName:\"2\",\n",
       "              fields:\"agency_id,agency_name,naics_id,naics_name,transactions,sum_dollarsobligated\",\n",
       "              totalRows:463,\n",
       "              rowsPerPage:25,\n",
       "            }, {}, {\"rows\": [{\"c\": [{\"v\": \"9700\"}, {\"v\": \"DEPT OF DEFENSE\"}, {\"v\": \"511210\"}, {\"v\": \"SOFTWARE PUBLISHERS\"}, {\"v\": 7907}, {\"v\": 1086588808.0600002}]}, {\"c\": [{\"v\": \"9700\"}, {\"v\": \"DEPT OF DEFENSE\"}, {\"v\": \"443120\"}, {\"v\": \"COMPUTER AND SOFTWARE STORES\"}, {\"v\": 5313}, {\"v\": 451131013.68999994}]}, {\"c\": [{\"v\": \"9700\"}, {\"v\": \"DEPT OF DEFENSE\"}, {\"v\": \"423430\"}, {\"v\": \"COMPUTER AND COMPUTER PERIPHERAL EQUIPMENT AND SOFTWARE MERCHANT WHOLESALERS\"}, {\"v\": 2073}, {\"v\": 246620960.81000003}]}, {\"c\": [{\"v\": \"7014\"}, {\"v\": \"U.S. CUSTOMS AND BORDER PROTECTION\"}, {\"v\": \"443120\"}, {\"v\": \"COMPUTER AND SOFTWARE STORES\"}, {\"v\": 294}, {\"v\": 195178029.07000002}]}, {\"c\": [{\"v\": \"2800\"}, {\"v\": \"SOCIAL SECURITY ADMINISTRATION\"}, {\"v\": \"443120\"}, {\"v\": \"COMPUTER AND SOFTWARE STORES\"}, {\"v\": 201}, {\"v\": 165682384.14000002}]}, {\"c\": [{\"v\": \"2050\"}, {\"v\": \"INTERNAL REVENUE SERVICE\"}, {\"v\": \"443120\"}, {\"v\": \"COMPUTER AND SOFTWARE STORES\"}, {\"v\": 272}, {\"v\": 105303702.28}]}, {\"c\": [{\"v\": \"1549\"}, {\"v\": \"FEDERAL BUREAU OF INVESTIGATION\"}, {\"v\": \"443120\"}, {\"v\": \"COMPUTER AND SOFTWARE STORES\"}, {\"v\": 147}, {\"v\": 94253371.19}]}, {\"c\": [{\"v\": \"1900\"}, {\"v\": \"STATE, DEPARTMENT OF\"}, {\"v\": \"443120\"}, {\"v\": \"COMPUTER AND SOFTWARE STORES\"}, {\"v\": 1196}, {\"v\": 91138323.46000002}]}, {\"c\": [{\"v\": \"2800\"}, {\"v\": \"SOCIAL SECURITY ADMINISTRATION\"}, {\"v\": \"511210\"}, {\"v\": \"SOFTWARE PUBLISHERS\"}, {\"v\": 244}, {\"v\": 89509652.8}]}, {\"c\": [{\"v\": \"3600\"}, {\"v\": \"VETERANS AFFAIRS, DEPARTMENT OF\"}, {\"v\": \"511210\"}, {\"v\": \"SOFTWARE PUBLISHERS\"}, {\"v\": 630}, {\"v\": 87867702.88000003}]}, {\"c\": [{\"v\": \"7001\"}, {\"v\": \"OFFICE OF PROCUREMENT OPERATIONS\"}, {\"v\": \"443120\"}, {\"v\": \"COMPUTER AND SOFTWARE STORES\"}, {\"v\": 115}, {\"v\": 85158432.43}]}, {\"c\": [{\"v\": \"2050\"}, {\"v\": \"INTERNAL REVENUE SERVICE\"}, {\"v\": \"511210\"}, {\"v\": \"SOFTWARE PUBLISHERS\"}, {\"v\": 321}, {\"v\": 82585967.45}]}, {\"c\": [{\"v\": \"6920\"}, {\"v\": \"FEDERAL AVIATION ADMINISTRATION\"}, {\"v\": \"423430\"}, {\"v\": \"COMPUTER AND COMPUTER PERIPHERAL EQUIPMENT AND SOFTWARE MERCHANT WHOLESALERS\"}, {\"v\": 320}, {\"v\": 81678563.94}]}, {\"c\": [{\"v\": \"1501\"}, {\"v\": \"OFFICES, BOARDS AND DIVISIONS\"}, {\"v\": \"443120\"}, {\"v\": \"COMPUTER AND SOFTWARE STORES\"}, {\"v\": 124}, {\"v\": 75303017.16000001}]}, {\"c\": [{\"v\": \"7013\"}, {\"v\": \"TRANSPORTATION SECURITY ADMINISTRATION\"}, {\"v\": \"443120\"}, {\"v\": \"COMPUTER AND SOFTWARE STORES\"}, {\"v\": 130}, {\"v\": 72338222.08999999}]}, {\"c\": [{\"v\": \"1344\"}, {\"v\": \"PATENT AND TRADEMARK OFFICE\"}, {\"v\": \"443120\"}, {\"v\": \"COMPUTER AND SOFTWARE STORES\"}, {\"v\": 179}, {\"v\": 60555711.82999998}]}, {\"c\": [{\"v\": \"1900\"}, {\"v\": \"STATE, DEPARTMENT OF\"}, {\"v\": \"423430\"}, {\"v\": \"COMPUTER AND COMPUTER PERIPHERAL EQUIPMENT AND SOFTWARE MERCHANT WHOLESALERS\"}, {\"v\": 1449}, {\"v\": 59498401.27}]}, {\"c\": [{\"v\": \"9700\"}, {\"v\": \"DEPT OF DEFENSE\"}, {\"v\": \"334614\"}, {\"v\": \"SOFTWARE AND OTHER PRERECORDED COMPACT DISC, TAPE, AND RECORD REPRODUCING \"}, {\"v\": 847}, {\"v\": 54775397.52}]}, {\"c\": [{\"v\": \"7529\"}, {\"v\": \"NATIONAL INSTITUTES OF HEALTH\"}, {\"v\": \"443120\"}, {\"v\": \"COMPUTER AND SOFTWARE STORES\"}, {\"v\": 212}, {\"v\": 54773671.42999999}]}, {\"c\": [{\"v\": \"1900\"}, {\"v\": \"STATE, DEPARTMENT OF\"}, {\"v\": \"511210\"}, {\"v\": \"SOFTWARE PUBLISHERS\"}, {\"v\": 357}, {\"v\": 39829177.68000001}]}, {\"c\": [{\"v\": \"6800\"}, {\"v\": \"ENVIRONMENTAL PROTECTION AGENCY\"}, {\"v\": \"443120\"}, {\"v\": \"COMPUTER AND SOFTWARE STORES\"}, {\"v\": 260}, {\"v\": 39649773.38999999}]}, {\"c\": [{\"v\": \"7200\"}, {\"v\": \"AGENCY FOR INTERNATIONAL DEVELOPMENT\"}, {\"v\": \"443120\"}, {\"v\": \"COMPUTER AND SOFTWARE STORES\"}, {\"v\": 63}, {\"v\": 37272308.45999999}]}, {\"c\": [{\"v\": \"1205\"}, {\"v\": \"USDA, OFFICE OF THE CHIEF FINANCIAL OFFICER\"}, {\"v\": \"443120\"}, {\"v\": \"COMPUTER AND SOFTWARE STORES\"}, {\"v\": 263}, {\"v\": 35421398.98000001}]}, {\"c\": [{\"v\": \"3600\"}, {\"v\": \"VETERANS AFFAIRS, DEPARTMENT OF\"}, {\"v\": \"443120\"}, {\"v\": \"COMPUTER AND SOFTWARE STORES\"}, {\"v\": 471}, {\"v\": 34401225.470000006}]}, {\"c\": [{\"v\": \"4732\"}, {\"v\": \"FEDERAL ACQUISITION SERVICE\"}, {\"v\": \"443120\"}, {\"v\": \"COMPUTER AND SOFTWARE STORES\"}, {\"v\": 757}, {\"v\": 34066865.639999986}]}], \"cols\": [{\"type\": \"string\", \"id\": \"agency_id\", \"label\": \"agency_id\"}, {\"type\": \"string\", \"id\": \"agency_name\", \"label\": \"agency_name\"}, {\"type\": \"string\", \"id\": \"naics_id\", \"label\": \"naics_id\"}, {\"type\": \"string\", \"id\": \"naics_name\", \"label\": \"naics_name\"}, {\"type\": \"number\", \"id\": \"transactions\", \"label\": \"transactions\"}, {\"type\": \"number\", \"id\": \"sum_dollarsobligated\", \"label\": \"sum_dollarsobligated\"}]});\n",
       "        }\n",
       "      );\n",
       "    </script>\n",
       "  "
      ],
      "text/plain": [
       "QueryResultsTable job_tyO5qqBhadXXwwH8p2u9qTutzoA"
      ]
     },
     "execution_count": 6,
     "metadata": {},
     "output_type": "execute_result"
    }
   ],
   "source": [
    "%%sql\n",
    "select\n",
    "  substr(agencyid, 1, 4) agency_id,\n",
    "  first(substr(agencyid, 7)) agency_name,\n",
    "  substr(principalnaicscode, 1, 6) naics_id,\n",
    "  first(substr(principalnaicscode, 9)) naics_name,\n",
    "  count(*) transactions,\n",
    "  sum(dollarsobligated) sum_dollarsobligated\n",
    "from\n",
    "  gpqueries:contracts.raw\n",
    "where\n",
    "  principalnaicscode contains 'software' and\n",
    "  fiscal_year = 2015\n",
    "group by\n",
    "  agency_id, naics_id\n",
    "order by\n",
    "  sum_dollarsobligated desc\n",
    "ignore case"
   ]
  },
  {
   "cell_type": "markdown",
   "metadata": {},
   "source": [
    "### Inspecting Specific Transactions"
   ]
  },
  {
   "cell_type": "markdown",
   "metadata": {},
   "source": [
    "You can learn details from looking at transactions for a specific `(agency, NAICS)` pair. For example, what software does TSA buy?"
   ]
  },
  {
   "cell_type": "code",
   "execution_count": 7,
   "metadata": {
    "collapsed": false
   },
   "outputs": [
    {
     "data": {
      "text/html": [
       "\n",
       "    <div class=\"bqtv\" id=\"4_146516669506\"><table><tr><th>fiscal_year</th><th>dollarsobligated</th><th>vendorname</th><th>city</th><th>state</th><th>annualrevenue</th><th>numberofemployees</th><th>descriptionofcontractrequirement</th></tr><tr><td>2003</td><td>75480.0</td><td>INTERNATIONAL BUSINESS MACHINE</td><td>BETHESDA</td><td>MD</td><td>0.0</td><td>0</td><td></td></tr><tr><td>2003</td><td>64800.0</td><td>AVAYA INC</td><td>ARLINGTON</td><td>VA</td><td>0.0</td><td>0</td><td></td></tr><tr><td>2016</td><td>0.0</td><td>IMMIXTECHNOLOGY, INC.</td><td>MCLEAN</td><td>VA</td><td>31929440.0</td><td>162</td><td>CLOSEOUT SERVICE</td></tr><tr><td>2008</td><td>5483.8</td><td>SPECTRUM SYSTEMS, INC.</td><td>FAIRFAX</td><td>VA</td><td>17000000.0</td><td>25</td><td>IT SECURITY  PR TO FUND ANNUAL LICENSE RENEWAL FOR SPIDYNAMICS WEBINSPECT IN THE AMOUNT OF $4,500  PR AMENDED- TO MATCH LOWEST QUOTE AND TO EXTEND  SERVICE THROUGH 12/31/2009.</td></tr><tr><td>2007</td><td>557880.0</td><td>GTSI CORPORATION</td><td>CHANTILLY</td><td>VA</td><td>900000000.0</td><td>850</td><td>THIS PROCUREMENT REQUEST IS FOR 250 D620 TRACE MACHINES FOR THE FSDS PER THE ATTACHED CONFIGURATION.  DELIVERY SCHEDULE AS FOLLOWS: DEC 18 - 25 JAN 8    - 25 JAN 15  - 50 JAN 29  - 50 FEB 12 - 50 FEB 26 - 50</td></tr><tr><td>2004</td><td>1640913.0</td><td>INTERNATIONAL BUSINESS MACHINE</td><td>BETHESDA</td><td>MD</td><td>0.0</td><td>0</td><td>IT SERVICES</td></tr><tr><td>2013</td><td>36372.5</td><td>IMMIXTECHNOLOGY, INC.</td><td>MCLEAN</td><td>VA</td><td>31929440.0</td><td>162</td><td>THE PURPOSE OF THIS BPA CALL IS TO PURCHASE A QUANTITY OF 250 POE WITH BATTERY BACKUP (PART # 8602806-001)TERMINAL CLOCK PRODUCTS.</td></tr><tr><td>2013</td><td>5373123.87</td><td>INTERNATIONAL BUSINESS MACHINE</td><td>BETHESDA</td><td>MD</td><td>0.0</td><td>0</td><td>IGF::OT::IGF SUBJECT: APPLICATION SUPPORT TEAM (AST) - OASIS II WORK ORDER</td></tr><tr><td>2008</td><td>16077.46</td><td>SPRINT COMMUNICATIONS COMPANY L.P.</td><td>RESTON</td><td>VA</td><td>38927998976.0</td><td>56001</td><td>QSEC AIRTIME FOR A BASE AND TWO ADDITIONAL OPTION PERIODS.</td></tr><tr><td>2005</td><td>100000.0</td><td>ORACLE CORPORATION</td><td>RESTON</td><td>VA</td><td>0.0</td><td>0</td><td>AFSP ORACLE SUPPORT</td></tr><tr><td>2016</td><td>0.0</td><td>INTERNATIONAL BUSINESS MACHINE</td><td>BETHESDA</td><td>MD</td><td>0.0</td><td>0</td><td>IGF::CT::IGF THE PURPOSE OF MODIFICATION P00004 TO OASIS II TASK ORDER #21 (HSTS03-14-J-SAS001) IS TO REALLOCATE AMONG TWO CLIN 10001 LABOR CATEGORIES FOR THE OPTION PERIOD 1.</td></tr><tr><td>2016</td><td>0.0</td><td>INTERNATIONAL BUSINESS MACHINE</td><td>BETHESDA</td><td>MD</td><td>0.0</td><td>0</td><td>IGF::CT::IGF THIS PURPOSE OF THIS MODIFICATION IS TO DISASSOCIATE FISCAL YEAR 2015/2016 LINE OF ACCOUNTING (LOA), DEOBLIGATE PERVIOUS CLINS AND ADD NEW SUB-CLINS WITH FISCAL YEAR 2016 LINE OF ACCOUNTING (LOA). THIS IS A TIME AND MATERIALS TASK ORDER ISSUED AGAINST BPA HSTS03-13-A-CIO549 TO PROVIDE SUPPORT AND MAINTENANCE FOR THE AUTOMATED TIME AND ATTENDANCE (T&amp;A) SYSTEM FOR THE TRANSPORTATION SECURITY OFFICER STAFF IN ACCORDANCE WITH THE INCLUDED PERFORMANCE WORK STATEMENT AND TERMS AND CONDITIONS.</td></tr><tr><td>2016</td><td>411498.48</td><td>INTERNATIONAL BUSINESS MACHINE</td><td>BETHESDA</td><td>MD</td><td>0.0</td><td>0</td><td>IGF::OT::IGF RAPID APPLICATION DEVELOPMENT (RAD) II CONTINUED SUPPORT SERVICES</td></tr><tr><td>2005</td><td>317680.0</td><td>INTERNATIONAL BUSINESS MACHINE</td><td>BETHESDA</td><td>MD</td><td>0.0</td><td>0</td><td></td></tr><tr><td>2005</td><td>413075.0</td><td>INTERNATIONAL BUSINESS MACHINE</td><td>BETHESDA</td><td>MD</td><td>0.0</td><td>0</td><td>IT SERVICES</td></tr><tr><td>2008</td><td>1834.02</td><td>TESSCO INCORPORATED</td><td>HUNT VALLEY</td><td>MD</td><td>513000000.0</td><td>592</td><td>MOBILE AMPLIFIERS</td></tr><tr><td>2008</td><td>14906.67</td><td>NETPRO COMPUTING, INC.</td><td>PHOENIX</td><td>AZ</td><td>9731484.0</td><td>88</td><td>SOFTWARE MAINTENANCE TO PROVIDE FY08 FUNDING IN THE AMOUNT OF $16,500 FOR  IT SOFTWARE MAINTENANCE FOR  NETPRO FOR THE PERIOD NOV 22, 2007 TO DEC 31, 2008.</td></tr><tr><td>2007</td><td>0.0</td><td>TALX CORPORATION</td><td>SAINT LOUIS</td><td>MO</td><td>45820000.0</td><td>878</td><td>TALX - ADDITIONAL FUNDS TO EXTEND TASK ORDER WITH USDA FOR THE TALX UC EXPESS PROGRAM. FUNDS SHALL COVER 4TH QUARTER OF FY06</td></tr><tr><td>2007</td><td>3939.74</td><td>POLYCOM, INC</td><td>PLEASANTON</td><td>CA</td><td>465959000.0</td><td>1271</td><td>THE PURPOSE OF THIS PROCUREMENT IS TO EXTEND THE POLYCOM PREMIER PLUS SERVICE MAINTENANCE AGREEMENT ON TWO (2) VIDEO CONFERENCING UNITS FOR AN ADDITIONAL YEAR.  PRESENT AGREEMENT EXPIRES ON 3-15-07.  THE TOTAL COST OF THIS PROCUREMENT IS $3,939.74.</td></tr><tr><td>2016</td><td>5000.0</td><td>INTERNATIONAL BUSINESS MACHINE</td><td>BETHESDA</td><td>MD</td><td>0.0</td><td>0</td><td>IGF::OT::IGF THE PURPOSE OF MODIFICATION P00003 TO OASIS II TASK ORDER #38 (HSTS03-14-J-SAS005) IS TO ADD CLIN 10007 TO OPTION PERIOD 1 AND CHANGE THE CONTRACTING OFFICER REPRESENTATIVE FROM DEREK SMITH TO SUNG LEE (VALERIE SANDY AS ALTERNATE CONTRACTING OFFICER REPRESENTATIVE)</td></tr><tr><td>2009</td><td>9379.91</td><td>SYNNEX CORPORATION</td><td>GREENVILLE</td><td>SC</td><td>4000000000.0</td><td>550</td><td>LCD MONITORS FOR PUBLIC SERVICE ANNOUNCEMENTS AT THE THREE SPOKE AIRPORTS AND TWO MONITORS FOR THE HUB COORDINATING CENTER. 10 IDENTICAL ITEMS WERE PURCHASED FOR THE HUB LAST YEAR UNDER CONTRACT GS-35F-4076D</td></tr><tr><td>2009</td><td>0.0</td><td>GTSI CORPORATION</td><td>CHANTILLY</td><td>VA</td><td>900000000.0</td><td>850</td><td>PURCHASE OF ADOBE LICENSES FOR THE OFFICE OF THE SPECIAL COUNSELOR</td></tr><tr><td>2011</td><td>415522.0</td><td>GTSI CORPORATION</td><td>CHANTILLY</td><td>VA</td><td>900000000.0</td><td>850</td><td>MAINTENANCE AND SUPPORT FOR SYMANTEC AND ALTIRIS LICENSES.</td></tr><tr><td>2006</td><td>152880.0</td><td>GTSI CORPORATION</td><td>CHANTILLY</td><td>VA</td><td>900000000.0</td><td>850</td><td>DELL COMPUTERS</td></tr><tr><td>2016</td><td>0.0</td><td>INTERNATIONAL BUSINESS MACHINE</td><td>BETHESDA</td><td>MD</td><td>0.0</td><td>0</td><td>IGF::CT::IGF ISHARE AND WORKFLOW APPLICATION DEVELOPMENT SERVICES.</td></tr></table></div>\n",
       "    <br />(rows: 584, time: 0.7s, cached, job: job_16eFmMJh3axW3zdfW7ioeWdHVE0)<br />\n",
       "    <script>\n",
       "      require(['extensions/charting', 'element!4_146516669506', 'style!/static/extensions/charting.css'],\n",
       "        function(charts, dom) {\n",
       "          charts.render(dom,\n",
       "            {\n",
       "              chartStyle:\"paged_table\",\n",
       "              dataName:\"3\",\n",
       "              fields:\"fiscal_year,dollarsobligated,vendorname,city,state,annualrevenue,numberofemployees,descriptionofcontractrequirement\",\n",
       "              totalRows:584,\n",
       "              rowsPerPage:25,\n",
       "            }, {}, {\"rows\": [{\"c\": [{\"v\": 2003}, {\"v\": 75480.0}, {\"v\": \"INTERNATIONAL BUSINESS MACHINE\"}, {\"v\": \"BETHESDA\"}, {\"v\": \"MD\"}, {\"v\": 0.0}, {\"v\": 0}, {\"v\": \"\"}]}, {\"c\": [{\"v\": 2003}, {\"v\": 64800.0}, {\"v\": \"AVAYA INC\"}, {\"v\": \"ARLINGTON\"}, {\"v\": \"VA\"}, {\"v\": 0.0}, {\"v\": 0}, {\"v\": \"\"}]}, {\"c\": [{\"v\": 2016}, {\"v\": 0.0}, {\"v\": \"IMMIXTECHNOLOGY, INC.\"}, {\"v\": \"MCLEAN\"}, {\"v\": \"VA\"}, {\"v\": 31929440.0}, {\"v\": 162}, {\"v\": \"CLOSEOUT SERVICE\"}]}, {\"c\": [{\"v\": 2008}, {\"v\": 5483.8}, {\"v\": \"SPECTRUM SYSTEMS, INC.\"}, {\"v\": \"FAIRFAX\"}, {\"v\": \"VA\"}, {\"v\": 17000000.0}, {\"v\": 25}, {\"v\": \"IT SECURITY  PR TO FUND ANNUAL LICENSE RENEWAL FOR SPIDYNAMICS WEBINSPECT IN THE AMOUNT OF $4,500  PR AMENDED- TO MATCH LOWEST QUOTE AND TO EXTEND  SERVICE THROUGH 12/31/2009.\"}]}, {\"c\": [{\"v\": 2007}, {\"v\": 557880.0}, {\"v\": \"GTSI CORPORATION\"}, {\"v\": \"CHANTILLY\"}, {\"v\": \"VA\"}, {\"v\": 900000000.0}, {\"v\": 850}, {\"v\": \"THIS PROCUREMENT REQUEST IS FOR 250 D620 TRACE MACHINES FOR THE FSDS PER THE ATTACHED CONFIGURATION.  DELIVERY SCHEDULE AS FOLLOWS: DEC 18 - 25 JAN 8    - 25 JAN 15  - 50 JAN 29  - 50 FEB 12 - 50 FEB 26 - 50\"}]}, {\"c\": [{\"v\": 2004}, {\"v\": 1640913.0}, {\"v\": \"INTERNATIONAL BUSINESS MACHINE\"}, {\"v\": \"BETHESDA\"}, {\"v\": \"MD\"}, {\"v\": 0.0}, {\"v\": 0}, {\"v\": \"IT SERVICES\"}]}, {\"c\": [{\"v\": 2013}, {\"v\": 36372.5}, {\"v\": \"IMMIXTECHNOLOGY, INC.\"}, {\"v\": \"MCLEAN\"}, {\"v\": \"VA\"}, {\"v\": 31929440.0}, {\"v\": 162}, {\"v\": \"THE PURPOSE OF THIS BPA CALL IS TO PURCHASE A QUANTITY OF 250 POE WITH BATTERY BACKUP (PART # 8602806-001)TERMINAL CLOCK PRODUCTS.\"}]}, {\"c\": [{\"v\": 2013}, {\"v\": 5373123.87}, {\"v\": \"INTERNATIONAL BUSINESS MACHINE\"}, {\"v\": \"BETHESDA\"}, {\"v\": \"MD\"}, {\"v\": 0.0}, {\"v\": 0}, {\"v\": \"IGF::OT::IGF SUBJECT: APPLICATION SUPPORT TEAM (AST) - OASIS II WORK ORDER\"}]}, {\"c\": [{\"v\": 2008}, {\"v\": 16077.46}, {\"v\": \"SPRINT COMMUNICATIONS COMPANY L.P.\"}, {\"v\": \"RESTON\"}, {\"v\": \"VA\"}, {\"v\": 38927998976.0}, {\"v\": 56001}, {\"v\": \"QSEC AIRTIME FOR A BASE AND TWO ADDITIONAL OPTION PERIODS.\"}]}, {\"c\": [{\"v\": 2005}, {\"v\": 100000.0}, {\"v\": \"ORACLE CORPORATION\"}, {\"v\": \"RESTON\"}, {\"v\": \"VA\"}, {\"v\": 0.0}, {\"v\": 0}, {\"v\": \"AFSP ORACLE SUPPORT\"}]}, {\"c\": [{\"v\": 2016}, {\"v\": 0.0}, {\"v\": \"INTERNATIONAL BUSINESS MACHINE\"}, {\"v\": \"BETHESDA\"}, {\"v\": \"MD\"}, {\"v\": 0.0}, {\"v\": 0}, {\"v\": \"IGF::CT::IGF THE PURPOSE OF MODIFICATION P00004 TO OASIS II TASK ORDER #21 (HSTS03-14-J-SAS001) IS TO REALLOCATE AMONG TWO CLIN 10001 LABOR CATEGORIES FOR THE OPTION PERIOD 1.\"}]}, {\"c\": [{\"v\": 2016}, {\"v\": 0.0}, {\"v\": \"INTERNATIONAL BUSINESS MACHINE\"}, {\"v\": \"BETHESDA\"}, {\"v\": \"MD\"}, {\"v\": 0.0}, {\"v\": 0}, {\"v\": \"IGF::CT::IGF THIS PURPOSE OF THIS MODIFICATION IS TO DISASSOCIATE FISCAL YEAR 2015/2016 LINE OF ACCOUNTING (LOA), DEOBLIGATE PERVIOUS CLINS AND ADD NEW SUB-CLINS WITH FISCAL YEAR 2016 LINE OF ACCOUNTING (LOA). THIS IS A TIME AND MATERIALS TASK ORDER ISSUED AGAINST BPA HSTS03-13-A-CIO549 TO PROVIDE SUPPORT AND MAINTENANCE FOR THE AUTOMATED TIME AND ATTENDANCE (T&A) SYSTEM FOR THE TRANSPORTATION SECURITY OFFICER STAFF IN ACCORDANCE WITH THE INCLUDED PERFORMANCE WORK STATEMENT AND TERMS AND CONDITIONS.\"}]}, {\"c\": [{\"v\": 2016}, {\"v\": 411498.48}, {\"v\": \"INTERNATIONAL BUSINESS MACHINE\"}, {\"v\": \"BETHESDA\"}, {\"v\": \"MD\"}, {\"v\": 0.0}, {\"v\": 0}, {\"v\": \"IGF::OT::IGF RAPID APPLICATION DEVELOPMENT (RAD) II CONTINUED SUPPORT SERVICES\"}]}, {\"c\": [{\"v\": 2005}, {\"v\": 317680.0}, {\"v\": \"INTERNATIONAL BUSINESS MACHINE\"}, {\"v\": \"BETHESDA\"}, {\"v\": \"MD\"}, {\"v\": 0.0}, {\"v\": 0}, {\"v\": \"\"}]}, {\"c\": [{\"v\": 2005}, {\"v\": 413075.0}, {\"v\": \"INTERNATIONAL BUSINESS MACHINE\"}, {\"v\": \"BETHESDA\"}, {\"v\": \"MD\"}, {\"v\": 0.0}, {\"v\": 0}, {\"v\": \"IT SERVICES\"}]}, {\"c\": [{\"v\": 2008}, {\"v\": 1834.02}, {\"v\": \"TESSCO INCORPORATED\"}, {\"v\": \"HUNT VALLEY\"}, {\"v\": \"MD\"}, {\"v\": 513000000.0}, {\"v\": 592}, {\"v\": \"MOBILE AMPLIFIERS\"}]}, {\"c\": [{\"v\": 2008}, {\"v\": 14906.67}, {\"v\": \"NETPRO COMPUTING, INC.\"}, {\"v\": \"PHOENIX\"}, {\"v\": \"AZ\"}, {\"v\": 9731484.0}, {\"v\": 88}, {\"v\": \"SOFTWARE MAINTENANCE TO PROVIDE FY08 FUNDING IN THE AMOUNT OF $16,500 FOR  IT SOFTWARE MAINTENANCE FOR  NETPRO FOR THE PERIOD NOV 22, 2007 TO DEC 31, 2008.\"}]}, {\"c\": [{\"v\": 2007}, {\"v\": 0.0}, {\"v\": \"TALX CORPORATION\"}, {\"v\": \"SAINT LOUIS\"}, {\"v\": \"MO\"}, {\"v\": 45820000.0}, {\"v\": 878}, {\"v\": \"TALX - ADDITIONAL FUNDS TO EXTEND TASK ORDER WITH USDA FOR THE TALX UC EXPESS PROGRAM. FUNDS SHALL COVER 4TH QUARTER OF FY06\"}]}, {\"c\": [{\"v\": 2007}, {\"v\": 3939.74}, {\"v\": \"POLYCOM, INC\"}, {\"v\": \"PLEASANTON\"}, {\"v\": \"CA\"}, {\"v\": 465959000.0}, {\"v\": 1271}, {\"v\": \"THE PURPOSE OF THIS PROCUREMENT IS TO EXTEND THE POLYCOM PREMIER PLUS SERVICE MAINTENANCE AGREEMENT ON TWO (2) VIDEO CONFERENCING UNITS FOR AN ADDITIONAL YEAR.  PRESENT AGREEMENT EXPIRES ON 3-15-07.  THE TOTAL COST OF THIS PROCUREMENT IS $3,939.74.\"}]}, {\"c\": [{\"v\": 2016}, {\"v\": 5000.0}, {\"v\": \"INTERNATIONAL BUSINESS MACHINE\"}, {\"v\": \"BETHESDA\"}, {\"v\": \"MD\"}, {\"v\": 0.0}, {\"v\": 0}, {\"v\": \"IGF::OT::IGF THE PURPOSE OF MODIFICATION P00003 TO OASIS II TASK ORDER #38 (HSTS03-14-J-SAS005) IS TO ADD CLIN 10007 TO OPTION PERIOD 1 AND CHANGE THE CONTRACTING OFFICER REPRESENTATIVE FROM DEREK SMITH TO SUNG LEE (VALERIE SANDY AS ALTERNATE CONTRACTING OFFICER REPRESENTATIVE)\"}]}, {\"c\": [{\"v\": 2009}, {\"v\": 9379.91}, {\"v\": \"SYNNEX CORPORATION\"}, {\"v\": \"GREENVILLE\"}, {\"v\": \"SC\"}, {\"v\": 4000000000.0}, {\"v\": 550}, {\"v\": \"LCD MONITORS FOR PUBLIC SERVICE ANNOUNCEMENTS AT THE THREE SPOKE AIRPORTS AND TWO MONITORS FOR THE HUB COORDINATING CENTER. 10 IDENTICAL ITEMS WERE PURCHASED FOR THE HUB LAST YEAR UNDER CONTRACT GS-35F-4076D\"}]}, {\"c\": [{\"v\": 2009}, {\"v\": 0.0}, {\"v\": \"GTSI CORPORATION\"}, {\"v\": \"CHANTILLY\"}, {\"v\": \"VA\"}, {\"v\": 900000000.0}, {\"v\": 850}, {\"v\": \"PURCHASE OF ADOBE LICENSES FOR THE OFFICE OF THE SPECIAL COUNSELOR\"}]}, {\"c\": [{\"v\": 2011}, {\"v\": 415522.0}, {\"v\": \"GTSI CORPORATION\"}, {\"v\": \"CHANTILLY\"}, {\"v\": \"VA\"}, {\"v\": 900000000.0}, {\"v\": 850}, {\"v\": \"MAINTENANCE AND SUPPORT FOR SYMANTEC AND ALTIRIS LICENSES.\"}]}, {\"c\": [{\"v\": 2006}, {\"v\": 152880.0}, {\"v\": \"GTSI CORPORATION\"}, {\"v\": \"CHANTILLY\"}, {\"v\": \"VA\"}, {\"v\": 900000000.0}, {\"v\": 850}, {\"v\": \"DELL COMPUTERS\"}]}, {\"c\": [{\"v\": 2016}, {\"v\": 0.0}, {\"v\": \"INTERNATIONAL BUSINESS MACHINE\"}, {\"v\": \"BETHESDA\"}, {\"v\": \"MD\"}, {\"v\": 0.0}, {\"v\": 0}, {\"v\": \"IGF::CT::IGF ISHARE AND WORKFLOW APPLICATION DEVELOPMENT SERVICES.\"}]}], \"cols\": [{\"type\": \"number\", \"id\": \"fiscal_year\", \"label\": \"fiscal_year\"}, {\"type\": \"number\", \"id\": \"dollarsobligated\", \"label\": \"dollarsobligated\"}, {\"type\": \"string\", \"id\": \"vendorname\", \"label\": \"vendorname\"}, {\"type\": \"string\", \"id\": \"city\", \"label\": \"city\"}, {\"type\": \"string\", \"id\": \"state\", \"label\": \"state\"}, {\"type\": \"number\", \"id\": \"annualrevenue\", \"label\": \"annualrevenue\"}, {\"type\": \"number\", \"id\": \"numberofemployees\", \"label\": \"numberofemployees\"}, {\"type\": \"string\", \"id\": \"descriptionofcontractrequirement\", \"label\": \"descriptionofcontractrequirement\"}]});\n",
       "        }\n",
       "      );\n",
       "    </script>\n",
       "  "
      ],
      "text/plain": [
       "QueryResultsTable job_16eFmMJh3axW3zdfW7ioeWdHVE0"
      ]
     },
     "execution_count": 7,
     "metadata": {},
     "output_type": "execute_result"
    }
   ],
   "source": [
    "%%sql\n",
    "select\n",
    "  fiscal_year,\n",
    "  dollarsobligated,\n",
    "  vendorname, city, state, annualrevenue, numberofemployees,\n",
    "  descriptionofcontractrequirement\n",
    "from\n",
    "  gpqueries:contracts.raw\n",
    "where\n",
    "  agencyid contains 'transportation security administration' and\n",
    "  principalnaicscode contains 'computer and software stores'\n",
    "ignore case"
   ]
  },
  {
   "cell_type": "markdown",
   "metadata": {},
   "source": [
    "Alternatively, specify vendors your product relates to and check how the government uses it. Top deals in data analytics:"
   ]
  },
  {
   "cell_type": "code",
   "execution_count": 8,
   "metadata": {
    "collapsed": false
   },
   "outputs": [
    {
     "data": {
      "text/html": [
       "\n",
       "    <div class=\"bqtv\" id=\"5_146516669631\"><table><tr><th>agencyid</th><th>dollarsobligated</th><th>vendorname</th><th>descriptionofcontractrequirement</th></tr><tr><td>9700: DEPT OF DEFENSE</td><td>22401901.14</td><td>PALANTIR TECHNOLOGIES INCORPORATED</td><td>PROCUREMENT OF PALANTIR GOTHAM SOFTWARE AND ASSOCIATED SUPPORT</td></tr><tr><td>9700: DEPT OF DEFENSE</td><td>19243057.44</td><td>PALANTIR TECHNOLOGIES INCORPORATED</td><td>PALANTIR CORE SERVER LICENSES AND HARDWARE</td></tr><tr><td>1549: FEDERAL BUREAU OF INVESTIGATION</td><td>14891225.66</td><td>PALANTIR TECHNOLOGIES INC.</td><td>UNLIMITED LICENSE</td></tr><tr><td>7012: U.S. IMMIGRATION AND CUSTOMS ENFORCEMENT</td><td>12472821.2</td><td>PALANTIR USG, INC.</td><td>ICE COTS BASED, WEB-ENABLED INVESTIGATIVE CASE MANAGEMENT (ICM) SYSTEM FOR ICE TECS MOD PROGRAM OFFICE.  IGF::CT::IGF</td></tr><tr><td>9700: DEPT OF DEFENSE</td><td>11999886.24</td><td>PALANTIR TECHNOLOGIES INCORPORATED</td><td>IGF::OT::IGF EXERCISE OPTION YEAR 1 AND ADD FUNDING</td></tr><tr><td>9700: DEPT OF DEFENSE</td><td>11805943.2</td><td>PALANTIR TECHNOLOGIES INCORPORATED</td><td>PALANTIR SW LICENSE MAINTENANCE SUPPORT RENEWAL.</td></tr><tr><td>7012: U.S. IMMIGRATION AND CUSTOMS ENFORCEMENT</td><td>9900000.0</td><td>PALANTIR TECHNOLOGIES INC.</td><td>IGF::OT::IGF FALCON OPERATIONS AND MAINTENANCE (O&amp;M), SYSTEM ENHANCEMENT SUPPORT SERVICES FOR PALANTIR GOVERNMENT</td></tr><tr><td>7012: U.S. IMMIGRATION AND CUSTOMS ENFORCEMENT</td><td>9857193.77</td><td>PALANTIR USG, INC.</td><td>ICE COTS BASED, WEB-ENABLED INVESTIGATIVE CASE MANAGEMENT (ICM) SYSTEM FOR ICE TECS MOD PROGRAM OFFICE. IGF::CT::IGF</td></tr><tr><td>1501: OFFICES, BOARDS AND DIVISIONS</td><td>9500000.0</td><td>PALANTIR TECHNOLOGIES INC.</td><td>IGF::OT::IGF</td></tr><tr><td>9700: DEPT OF DEFENSE</td><td>9125264.2</td><td>PALANTIR TECHNOLOGIES INCORPORATED</td><td>IFAP</td></tr><tr><td>9700: DEPT OF DEFENSE</td><td>7180568.16</td><td>PALANTIR TECHNOLOGIES INCORPORATED</td><td>PALANTIR SW LICENSE MAINTENANCE SUPPORT RENEWAL.</td></tr><tr><td>1501: OFFICES, BOARDS AND DIVISIONS</td><td>6500000.0</td><td>PALANTIR TECHNOLOGIES INC.</td><td>IGF::OT::IGF</td></tr><tr><td>5000: SECURITIES AND EXCHANGE COMMISSION</td><td>5999999.98</td><td>PALANTIR TECHNOLOGIES INC.</td><td>IGF::OT::IGF FOR OTHER FUNCTIONS PROVIDE AND IMPLEMENT A COTS SOLUTION FOR THE AGENCY'S ENTERPRISE DATA ANALYTICS</td></tr><tr><td>7012: U.S. IMMIGRATION AND CUSTOMS ENFORCEMENT</td><td>5936000.0</td><td>PALANTIR TECHNOLOGIES INCORPORATED</td><td>PALANTIR SOFTWARE, SERVICE, AND SUPPORT FOR HSI PERSONNEL</td></tr><tr><td>9700: DEPT OF DEFENSE</td><td>5724116.36</td><td>PALANTIR TECHNOLOGIES INCORPORATED</td><td>PALANTIR GOTHAM SERVER LICENSES AND ASSOCIATED FIELD SERVICE REPRESENTATIVE SUPPORT.</td></tr><tr><td>9700: DEPT OF DEFENSE</td><td>5717851.36</td><td>PALANTIR TECHNOLOGIES INCORPORATED</td><td>PALANTIR GOTHAM LICENSES AND FIELD SERVICE REPRESENTATIVE SUPPORT</td></tr><tr><td>9700: DEPT OF DEFENSE</td><td>5646384.24</td><td>PALANTIR TECHNOLOGIES INCORPORATED</td><td>PURCHASE OF PALANTIR SOFTWARE LICENSES&amp;FSR SUPPORT</td></tr><tr><td>7012: U.S. IMMIGRATION AND CUSTOMS ENFORCEMENT</td><td>5038025.59</td><td>PALANTIR TECHNOLOGIES INC.</td><td>IGF::OT::IGF FALCON OPERATIONS AND MAINTENANCE (O&amp;M) SUPPORT SERVICES FOR PALANTIR GOVERNMENT, A PROPRIETARY SOFTWARE PRODUCT OF PALANTIR TECHNOLOGIES, INC.</td></tr><tr><td>9700: DEPT OF DEFENSE</td><td>4700000.0</td><td>PALANTIR TECHNOLOGIES INCORPORATED</td><td>NEW WORK MOD</td></tr><tr><td>1501: OFFICES, BOARDS AND DIVISIONS</td><td>4690647.07</td><td>PALANTIR TECHNOLOGIES INC.</td><td>IGF::OT::IGF</td></tr><tr><td>9700: DEPT OF DEFENSE</td><td>4661082.38</td><td>PALANTIR TECHNOLOGIES INCORPORATED</td><td>IGF::OT::IGF PALANTIR MARINES IFAP III CORE LICENSES.</td></tr><tr><td>1501: OFFICES, BOARDS AND DIVISIONS</td><td>4579393.0</td><td>PALANTIR TECHNOLOGIES INC.</td><td>IGF::OT::IGF,EOUSA PALANTIR</td></tr><tr><td>1549: FEDERAL BUREAU OF INVESTIGATION</td><td>3609995.45</td><td>PALANTIR TECHNOLOGIES INCORPORATED</td><td>COMPUTER TOOL USAGE LICENSES</td></tr><tr><td>9700: DEPT OF DEFENSE</td><td>3271065.56</td><td>PALANTIR TECHNOLOGIES INC.</td><td>IGF::OT::IGF CAG/GMSC FSR SUPPORT</td></tr><tr><td>9700: DEPT OF DEFENSE</td><td>3203190.77</td><td>PALANTIR TECHNOLOGIES INC.</td><td>IGF::OT::IGF, TWO (2) 8-CORE PERPETUAL LICENSES</td></tr></table></div>\n",
       "    <br />(rows: 100, time: 0.8s, cached, job: job_GHwVcGuA_3SqI6q4FiMMI4k9yqY)<br />\n",
       "    <script>\n",
       "      require(['extensions/charting', 'element!5_146516669631', 'style!/static/extensions/charting.css'],\n",
       "        function(charts, dom) {\n",
       "          charts.render(dom,\n",
       "            {\n",
       "              chartStyle:\"paged_table\",\n",
       "              dataName:\"4\",\n",
       "              fields:\"agencyid,dollarsobligated,vendorname,descriptionofcontractrequirement\",\n",
       "              totalRows:100,\n",
       "              rowsPerPage:25,\n",
       "            }, {}, {\"rows\": [{\"c\": [{\"v\": \"9700: DEPT OF DEFENSE\"}, {\"v\": 22401901.14}, {\"v\": \"PALANTIR TECHNOLOGIES INCORPORATED\"}, {\"v\": \"PROCUREMENT OF PALANTIR GOTHAM SOFTWARE AND ASSOCIATED SUPPORT\"}]}, {\"c\": [{\"v\": \"9700: DEPT OF DEFENSE\"}, {\"v\": 19243057.44}, {\"v\": \"PALANTIR TECHNOLOGIES INCORPORATED\"}, {\"v\": \"PALANTIR CORE SERVER LICENSES AND HARDWARE\"}]}, {\"c\": [{\"v\": \"1549: FEDERAL BUREAU OF INVESTIGATION\"}, {\"v\": 14891225.66}, {\"v\": \"PALANTIR TECHNOLOGIES INC.\"}, {\"v\": \"UNLIMITED LICENSE\"}]}, {\"c\": [{\"v\": \"7012: U.S. IMMIGRATION AND CUSTOMS ENFORCEMENT\"}, {\"v\": 12472821.2}, {\"v\": \"PALANTIR USG, INC.\"}, {\"v\": \"ICE COTS BASED, WEB-ENABLED INVESTIGATIVE CASE MANAGEMENT (ICM) SYSTEM FOR ICE TECS MOD PROGRAM OFFICE.  IGF::CT::IGF\"}]}, {\"c\": [{\"v\": \"9700: DEPT OF DEFENSE\"}, {\"v\": 11999886.24}, {\"v\": \"PALANTIR TECHNOLOGIES INCORPORATED\"}, {\"v\": \"IGF::OT::IGF EXERCISE OPTION YEAR 1 AND ADD FUNDING\"}]}, {\"c\": [{\"v\": \"9700: DEPT OF DEFENSE\"}, {\"v\": 11805943.2}, {\"v\": \"PALANTIR TECHNOLOGIES INCORPORATED\"}, {\"v\": \"PALANTIR SW LICENSE MAINTENANCE SUPPORT RENEWAL.\"}]}, {\"c\": [{\"v\": \"7012: U.S. IMMIGRATION AND CUSTOMS ENFORCEMENT\"}, {\"v\": 9900000.0}, {\"v\": \"PALANTIR TECHNOLOGIES INC.\"}, {\"v\": \"IGF::OT::IGF FALCON OPERATIONS AND MAINTENANCE (O&M), SYSTEM ENHANCEMENT SUPPORT SERVICES FOR PALANTIR GOVERNMENT\"}]}, {\"c\": [{\"v\": \"7012: U.S. IMMIGRATION AND CUSTOMS ENFORCEMENT\"}, {\"v\": 9857193.77}, {\"v\": \"PALANTIR USG, INC.\"}, {\"v\": \"ICE COTS BASED, WEB-ENABLED INVESTIGATIVE CASE MANAGEMENT (ICM) SYSTEM FOR ICE TECS MOD PROGRAM OFFICE. IGF::CT::IGF\"}]}, {\"c\": [{\"v\": \"1501: OFFICES, BOARDS AND DIVISIONS\"}, {\"v\": 9500000.0}, {\"v\": \"PALANTIR TECHNOLOGIES INC.\"}, {\"v\": \"IGF::OT::IGF\"}]}, {\"c\": [{\"v\": \"9700: DEPT OF DEFENSE\"}, {\"v\": 9125264.2}, {\"v\": \"PALANTIR TECHNOLOGIES INCORPORATED\"}, {\"v\": \"IFAP\"}]}, {\"c\": [{\"v\": \"9700: DEPT OF DEFENSE\"}, {\"v\": 7180568.16}, {\"v\": \"PALANTIR TECHNOLOGIES INCORPORATED\"}, {\"v\": \"PALANTIR SW LICENSE MAINTENANCE SUPPORT RENEWAL.\"}]}, {\"c\": [{\"v\": \"1501: OFFICES, BOARDS AND DIVISIONS\"}, {\"v\": 6500000.0}, {\"v\": \"PALANTIR TECHNOLOGIES INC.\"}, {\"v\": \"IGF::OT::IGF\"}]}, {\"c\": [{\"v\": \"5000: SECURITIES AND EXCHANGE COMMISSION\"}, {\"v\": 5999999.98}, {\"v\": \"PALANTIR TECHNOLOGIES INC.\"}, {\"v\": \"IGF::OT::IGF FOR OTHER FUNCTIONS PROVIDE AND IMPLEMENT A COTS SOLUTION FOR THE AGENCY'S ENTERPRISE DATA ANALYTICS\"}]}, {\"c\": [{\"v\": \"7012: U.S. IMMIGRATION AND CUSTOMS ENFORCEMENT\"}, {\"v\": 5936000.0}, {\"v\": \"PALANTIR TECHNOLOGIES INCORPORATED\"}, {\"v\": \"PALANTIR SOFTWARE, SERVICE, AND SUPPORT FOR HSI PERSONNEL\"}]}, {\"c\": [{\"v\": \"9700: DEPT OF DEFENSE\"}, {\"v\": 5724116.36}, {\"v\": \"PALANTIR TECHNOLOGIES INCORPORATED\"}, {\"v\": \"PALANTIR GOTHAM SERVER LICENSES AND ASSOCIATED FIELD SERVICE REPRESENTATIVE SUPPORT.\"}]}, {\"c\": [{\"v\": \"9700: DEPT OF DEFENSE\"}, {\"v\": 5717851.36}, {\"v\": \"PALANTIR TECHNOLOGIES INCORPORATED\"}, {\"v\": \"PALANTIR GOTHAM LICENSES AND FIELD SERVICE REPRESENTATIVE SUPPORT\"}]}, {\"c\": [{\"v\": \"9700: DEPT OF DEFENSE\"}, {\"v\": 5646384.24}, {\"v\": \"PALANTIR TECHNOLOGIES INCORPORATED\"}, {\"v\": \"PURCHASE OF PALANTIR SOFTWARE LICENSES&FSR SUPPORT\"}]}, {\"c\": [{\"v\": \"7012: U.S. IMMIGRATION AND CUSTOMS ENFORCEMENT\"}, {\"v\": 5038025.59}, {\"v\": \"PALANTIR TECHNOLOGIES INC.\"}, {\"v\": \"IGF::OT::IGF FALCON OPERATIONS AND MAINTENANCE (O&M) SUPPORT SERVICES FOR PALANTIR GOVERNMENT, A PROPRIETARY SOFTWARE PRODUCT OF PALANTIR TECHNOLOGIES, INC.\"}]}, {\"c\": [{\"v\": \"9700: DEPT OF DEFENSE\"}, {\"v\": 4700000.0}, {\"v\": \"PALANTIR TECHNOLOGIES INCORPORATED\"}, {\"v\": \"NEW WORK MOD\"}]}, {\"c\": [{\"v\": \"1501: OFFICES, BOARDS AND DIVISIONS\"}, {\"v\": 4690647.07}, {\"v\": \"PALANTIR TECHNOLOGIES INC.\"}, {\"v\": \"IGF::OT::IGF\"}]}, {\"c\": [{\"v\": \"9700: DEPT OF DEFENSE\"}, {\"v\": 4661082.38}, {\"v\": \"PALANTIR TECHNOLOGIES INCORPORATED\"}, {\"v\": \"IGF::OT::IGF PALANTIR MARINES IFAP III CORE LICENSES.\"}]}, {\"c\": [{\"v\": \"1501: OFFICES, BOARDS AND DIVISIONS\"}, {\"v\": 4579393.0}, {\"v\": \"PALANTIR TECHNOLOGIES INC.\"}, {\"v\": \"IGF::OT::IGF,EOUSA PALANTIR\"}]}, {\"c\": [{\"v\": \"1549: FEDERAL BUREAU OF INVESTIGATION\"}, {\"v\": 3609995.45}, {\"v\": \"PALANTIR TECHNOLOGIES INCORPORATED\"}, {\"v\": \"COMPUTER TOOL USAGE LICENSES\"}]}, {\"c\": [{\"v\": \"9700: DEPT OF DEFENSE\"}, {\"v\": 3271065.56}, {\"v\": \"PALANTIR TECHNOLOGIES INC.\"}, {\"v\": \"IGF::OT::IGF CAG/GMSC FSR SUPPORT\"}]}, {\"c\": [{\"v\": \"9700: DEPT OF DEFENSE\"}, {\"v\": 3203190.77}, {\"v\": \"PALANTIR TECHNOLOGIES INC.\"}, {\"v\": \"IGF::OT::IGF, TWO (2) 8-CORE PERPETUAL LICENSES\"}]}], \"cols\": [{\"type\": \"string\", \"id\": \"agencyid\", \"label\": \"agencyid\"}, {\"type\": \"number\", \"id\": \"dollarsobligated\", \"label\": \"dollarsobligated\"}, {\"type\": \"string\", \"id\": \"vendorname\", \"label\": \"vendorname\"}, {\"type\": \"string\", \"id\": \"descriptionofcontractrequirement\", \"label\": \"descriptionofcontractrequirement\"}]});\n",
       "        }\n",
       "      );\n",
       "    </script>\n",
       "  "
      ],
      "text/plain": [
       "QueryResultsTable job_GHwVcGuA_3SqI6q4FiMMI4k9yqY"
      ]
     },
     "execution_count": 8,
     "metadata": {},
     "output_type": "execute_result"
    }
   ],
   "source": [
    "%%sql\n",
    "select\n",
    "  agencyid,\n",
    "  dollarsobligated,\n",
    "  vendorname,\n",
    "  descriptionofcontractrequirement\n",
    "from\n",
    "  gpqueries:contracts.raw\n",
    "where\n",
    "  vendorname contains 'tableau' or\n",
    "  vendorname contains 'socrata' or\n",
    "  vendorname contains 'palantir' or\n",
    "  vendorname contains 'revolution analytics' or\n",
    "  vendorname contains 'mathworks' or\n",
    "  vendorname contains 'statacorp' or\n",
    "  vendorname contains 'mathworks'\n",
    "order by\n",
    "  dollarsobligated desc\n",
    "limit\n",
    "  100\n",
    "ignore case"
   ]
  },
  {
   "cell_type": "markdown",
   "metadata": {},
   "source": [
    "### Searching Through Descriptions"
   ]
  },
  {
   "cell_type": "markdown",
   "metadata": {},
   "source": [
    "Full-text search and regular expressions for the variable `descriptionofcontractrequirement` narrow results for relevant product groups:"
   ]
  },
  {
   "cell_type": "code",
   "execution_count": 9,
   "metadata": {
    "collapsed": false
   },
   "outputs": [
    {
     "data": {
      "text/html": [
       "\n",
       "    <div class=\"bqtv\" id=\"6_146516669779\"><table><tr><th>agencyid</th><th>dollarsobligated</th><th>descriptionofcontractrequirement</th></tr><tr><td>9700: DEPT OF DEFENSE</td><td>5529.0</td><td>WEARABLE BODY CAMERA</td></tr><tr><td>1549: FEDERAL BUREAU OF INVESTIGATION</td><td>3978.0</td><td>BODY CAMERAS FOR WARM SPRINGS OFFICERS/DETECTIVES</td></tr><tr><td>7008: U.S. COAST GUARD</td><td>5154.21</td><td>POLICE BODY CAMERAS</td></tr><tr><td>1443: NATIONAL PARK SERVICE</td><td>12044.42</td><td>CACO WEARABLE BODY CAMERAS FOR THE LAW ENFORCEMENT RANGERS AT CAPE CODE NATIONAL SEASHORE</td></tr><tr><td>9700: DEPT OF DEFENSE</td><td>4315.0</td><td>NIKON D3 DIGITAL SLR BODY CAMERA</td></tr><tr><td>9700: DEPT OF DEFENSE</td><td>26285.6</td><td>BODY CAMERA'S</td></tr><tr><td>1443: NATIONAL PARK SERVICE</td><td>14605.4</td><td>VIEVU BODY CAMERAS</td></tr><tr><td>2036: BUREAU OF THE FISCAL SERVICE</td><td>23970.0</td><td>BODY CAMERAS</td></tr><tr><td>1443: NATIONAL PARK SERVICE</td><td>14850.0</td><td>LARO LE BODY CAMERAS</td></tr><tr><td>3600: VETERANS AFFAIRS, DEPARTMENT OF</td><td>5648.0</td><td>16 BODY CAMERAS FOR POLICE DEPT AT LEXINGTON VAMC</td></tr><tr><td>9700: DEPT OF DEFENSE</td><td>48667.5</td><td>DES BODY CAMERAS</td></tr><tr><td>9700: DEPT OF DEFENSE</td><td>58290.0</td><td>NIKON D300S BODY CAMERA</td></tr><tr><td>1443: NATIONAL PARK SERVICE</td><td>4855.03</td><td>MEVE-TASER AXON BODY CAMERAS</td></tr><tr><td>9700: DEPT OF DEFENSE</td><td>0.0</td><td>POLICE BODY CAMERA SYSTEM</td></tr><tr><td>1448: U.S. FISH AND WILDLIFE SERVICE</td><td>17133.6</td><td>RLE-15-0065-BODY CAMERAS</td></tr><tr><td>3600: VETERANS AFFAIRS, DEPARTMENT OF</td><td>7375.0</td><td>PURCHASE BODY CAMERAS FOR POLICE DEPARTMENT</td></tr><tr><td>1443: NATIONAL PARK SERVICE</td><td>8010.0</td><td>G: LOWTX, PURCHASE FIRSTVU BODY CAMERA(S)</td></tr><tr><td>1443: NATIONAL PARK SERVICE</td><td>0.0</td><td>X:NOGRN, WEARABLE BODY CAMERAS, BOSTON NATIONAL HISTORICAL PARK, CHARLESTOWN, MA, 02129</td></tr><tr><td>9700: DEPT OF DEFENSE</td><td>12989.34</td><td>IN-CAR AND BODY CAMERAS FOR POLICE DEPARTMENT</td></tr><tr><td>9700: DEPT OF DEFENSE</td><td>0.0</td><td>NIKON D300 BODY CAMERA,</td></tr><tr><td>7524: FOOD AND DRUG ADMINISTRATION</td><td>4420.0</td><td>IGF::OT::IGF BODY CAMERA</td></tr><tr><td>1448: U.S. FISH AND WILDLIFE SERVICE</td><td>68260.25</td><td>BODY CAMERAS FOR RLE IGF::OT::IGF</td></tr><tr><td>7009: U.S. SECRET SERVICE</td><td>6959.96</td><td>11-FSD-PR-NIKON D3X BODY CAMERA FOR USE IN THE FORENSICS SERVICES DIVISION.</td></tr><tr><td>9700: DEPT OF DEFENSE</td><td>22564.15</td><td>POLICE BODY CAMERA SYSTEM</td></tr><tr><td>1443: NATIONAL PARK SERVICE</td><td>9266.3</td><td>CANY-TASER BODY CAMERAS</td></tr></table></div>\n",
       "    <br />(rows: 53, time: 0.9s, cached, job: job_wIUPYZekHe4jwd-oHsy76OSUD4c)<br />\n",
       "    <script>\n",
       "      require(['extensions/charting', 'element!6_146516669779', 'style!/static/extensions/charting.css'],\n",
       "        function(charts, dom) {\n",
       "          charts.render(dom,\n",
       "            {\n",
       "              chartStyle:\"paged_table\",\n",
       "              dataName:\"5\",\n",
       "              fields:\"agencyid,dollarsobligated,descriptionofcontractrequirement\",\n",
       "              totalRows:53,\n",
       "              rowsPerPage:25,\n",
       "            }, {}, {\"rows\": [{\"c\": [{\"v\": \"9700: DEPT OF DEFENSE\"}, {\"v\": 5529.0}, {\"v\": \"WEARABLE BODY CAMERA\"}]}, {\"c\": [{\"v\": \"1549: FEDERAL BUREAU OF INVESTIGATION\"}, {\"v\": 3978.0}, {\"v\": \"BODY CAMERAS FOR WARM SPRINGS OFFICERS/DETECTIVES\"}]}, {\"c\": [{\"v\": \"7008: U.S. COAST GUARD\"}, {\"v\": 5154.21}, {\"v\": \"POLICE BODY CAMERAS\"}]}, {\"c\": [{\"v\": \"1443: NATIONAL PARK SERVICE\"}, {\"v\": 12044.42}, {\"v\": \"CACO WEARABLE BODY CAMERAS FOR THE LAW ENFORCEMENT RANGERS AT CAPE CODE NATIONAL SEASHORE\"}]}, {\"c\": [{\"v\": \"9700: DEPT OF DEFENSE\"}, {\"v\": 4315.0}, {\"v\": \"NIKON D3 DIGITAL SLR BODY CAMERA\"}]}, {\"c\": [{\"v\": \"9700: DEPT OF DEFENSE\"}, {\"v\": 26285.6}, {\"v\": \"BODY CAMERA'S\"}]}, {\"c\": [{\"v\": \"1443: NATIONAL PARK SERVICE\"}, {\"v\": 14605.4}, {\"v\": \"VIEVU BODY CAMERAS\"}]}, {\"c\": [{\"v\": \"2036: BUREAU OF THE FISCAL SERVICE\"}, {\"v\": 23970.0}, {\"v\": \"BODY CAMERAS\"}]}, {\"c\": [{\"v\": \"1443: NATIONAL PARK SERVICE\"}, {\"v\": 14850.0}, {\"v\": \"LARO LE BODY CAMERAS\"}]}, {\"c\": [{\"v\": \"3600: VETERANS AFFAIRS, DEPARTMENT OF\"}, {\"v\": 5648.0}, {\"v\": \"16 BODY CAMERAS FOR POLICE DEPT AT LEXINGTON VAMC\"}]}, {\"c\": [{\"v\": \"9700: DEPT OF DEFENSE\"}, {\"v\": 48667.5}, {\"v\": \"DES BODY CAMERAS\"}]}, {\"c\": [{\"v\": \"9700: DEPT OF DEFENSE\"}, {\"v\": 58290.0}, {\"v\": \"NIKON D300S BODY CAMERA\"}]}, {\"c\": [{\"v\": \"1443: NATIONAL PARK SERVICE\"}, {\"v\": 4855.03}, {\"v\": \"MEVE-TASER AXON BODY CAMERAS\"}]}, {\"c\": [{\"v\": \"9700: DEPT OF DEFENSE\"}, {\"v\": 0.0}, {\"v\": \"POLICE BODY CAMERA SYSTEM\"}]}, {\"c\": [{\"v\": \"1448: U.S. FISH AND WILDLIFE SERVICE\"}, {\"v\": 17133.6}, {\"v\": \"RLE-15-0065-BODY CAMERAS\"}]}, {\"c\": [{\"v\": \"3600: VETERANS AFFAIRS, DEPARTMENT OF\"}, {\"v\": 7375.0}, {\"v\": \"PURCHASE BODY CAMERAS FOR POLICE DEPARTMENT\"}]}, {\"c\": [{\"v\": \"1443: NATIONAL PARK SERVICE\"}, {\"v\": 8010.0}, {\"v\": \"G: LOWTX, PURCHASE FIRSTVU BODY CAMERA(S)\"}]}, {\"c\": [{\"v\": \"1443: NATIONAL PARK SERVICE\"}, {\"v\": 0.0}, {\"v\": \"X:NOGRN, WEARABLE BODY CAMERAS, BOSTON NATIONAL HISTORICAL PARK, CHARLESTOWN, MA, 02129\"}]}, {\"c\": [{\"v\": \"9700: DEPT OF DEFENSE\"}, {\"v\": 12989.34}, {\"v\": \"IN-CAR AND BODY CAMERAS FOR POLICE DEPARTMENT\"}]}, {\"c\": [{\"v\": \"9700: DEPT OF DEFENSE\"}, {\"v\": 0.0}, {\"v\": \"NIKON D300 BODY CAMERA,\"}]}, {\"c\": [{\"v\": \"7524: FOOD AND DRUG ADMINISTRATION\"}, {\"v\": 4420.0}, {\"v\": \"IGF::OT::IGF BODY CAMERA\"}]}, {\"c\": [{\"v\": \"1448: U.S. FISH AND WILDLIFE SERVICE\"}, {\"v\": 68260.25}, {\"v\": \"BODY CAMERAS FOR RLE IGF::OT::IGF\"}]}, {\"c\": [{\"v\": \"7009: U.S. SECRET SERVICE\"}, {\"v\": 6959.96}, {\"v\": \"11-FSD-PR-NIKON D3X BODY CAMERA FOR USE IN THE FORENSICS SERVICES DIVISION.\"}]}, {\"c\": [{\"v\": \"9700: DEPT OF DEFENSE\"}, {\"v\": 22564.15}, {\"v\": \"POLICE BODY CAMERA SYSTEM\"}]}, {\"c\": [{\"v\": \"1443: NATIONAL PARK SERVICE\"}, {\"v\": 9266.3}, {\"v\": \"CANY-TASER BODY CAMERAS\"}]}], \"cols\": [{\"type\": \"string\", \"id\": \"agencyid\", \"label\": \"agencyid\"}, {\"type\": \"number\", \"id\": \"dollarsobligated\", \"label\": \"dollarsobligated\"}, {\"type\": \"string\", \"id\": \"descriptionofcontractrequirement\", \"label\": \"descriptionofcontractrequirement\"}]});\n",
       "        }\n",
       "      );\n",
       "    </script>\n",
       "  "
      ],
      "text/plain": [
       "QueryResultsTable job_wIUPYZekHe4jwd-oHsy76OSUD4c"
      ]
     },
     "execution_count": 9,
     "metadata": {},
     "output_type": "execute_result"
    }
   ],
   "source": [
    "%%sql\n",
    "select\n",
    "  agencyid,\n",
    "  dollarsobligated,\n",
    "  descriptionofcontractrequirement\n",
    "from\n",
    "  gpqueries:contracts.raw\n",
    "where\n",
    "  descriptionofcontractrequirement contains 'body camera'\n",
    "limit\n",
    "  100\n",
    "ignore case"
   ]
  },
  {
   "cell_type": "markdown",
   "metadata": {},
   "source": [
    "Some rows of `descriptionofcontractrequirement` contain codes like \"IGF::CT::IGF\". These codes classify the purchase into three groups of \"[Inherently Governmental Functions](https://www.fpds.gov/fpdsng_cms/index.php/en/newsroom/108-nherently-governmental-functions.html)\" (IGF):\n",
    "\n",
    "1. IGF::CT::IGF for Critical Functions\n",
    "2. IGF::CL::IGF for Closely Associated\n",
    "3. IGF::OT::IGF for Other Functions"
   ]
  },
  {
   "cell_type": "markdown",
   "metadata": {},
   "source": [
    "### Narrowing Your Geography"
   ]
  },
  {
   "cell_type": "markdown",
   "metadata": {},
   "source": [
    "You can find local opportunities using variables for vendors (`city`, `state`) and services sold (`PlaceofPerformanceCity`, `pop_state_code`). The states where most contracts are delivered in:"
   ]
  },
  {
   "cell_type": "code",
   "execution_count": 10,
   "metadata": {
    "collapsed": false
   },
   "outputs": [
    {
     "data": {
      "text/html": [
       "\n",
       "    <div class=\"bqtv\" id=\"7_146516669984\"><table><tr><th>state_code</th><th>state_name</th><th>sum_dollarsobligated</th></tr><tr><td>CA</td><td> </td><td>7.12598903911e+11</td></tr><tr><td>VA</td><td> VIRGINIA</td><td>6.97817723705e+11</td></tr><tr><td>:</td><td></td><td>6.67791793514e+11</td></tr><tr><td>TX</td><td> TEXAS</td><td>5.12968110673e+11</td></tr><tr><td>MD</td><td> MARYLAND</td><td>3.51494588833e+11</td></tr><tr><td>DC</td><td> DISTRICT OF COLUMBIA</td><td>2.58102498463e+11</td></tr><tr><td>PA</td><td> PENNSYLVANIA</td><td>2.10745481833e+11</td></tr><tr><td>FL</td><td> FLORIDA</td><td>2.10241041129e+11</td></tr><tr><td>MA</td><td> MASSACHUSETTS</td><td>1.84166810727e+11</td></tr><tr><td>AZ</td><td> ARIZONA</td><td>1.68027358301e+11</td></tr><tr><td>CT</td><td> CONNECTICUT</td><td>1.6160664469e+11</td></tr><tr><td>MO</td><td> MISSOURI</td><td>1.58477274895e+11</td></tr><tr><td>NY</td><td> NEW YORK</td><td>1.50885801473e+11</td></tr><tr><td>WA</td><td> WASHINGTON</td><td>1.45630044425e+11</td></tr><tr><td>GA</td><td> GEORGIA</td><td>1.40264459673e+11</td></tr><tr><td>AL</td><td> ALABAMA</td><td>1.39065794738e+11</td></tr><tr><td>CO</td><td> COLORADO</td><td>1.19793072249e+11</td></tr><tr><td>IL</td><td> ILLINOIS</td><td>1.19266682187e+11</td></tr><tr><td>NM</td><td> NEW MEXICO</td><td>1.11178508246e+11</td></tr><tr><td>TN</td><td> TENNESSEE</td><td>1.08883193392e+11</td></tr><tr><td>OH</td><td> OHIO</td><td>1.07798459749e+11</td></tr><tr><td>NJ</td><td> NEW JERSEY</td><td>1.06487949719e+11</td></tr><tr><td>SC</td><td> SOUTH CAROLINA</td><td>87058229568.8</td></tr><tr><td>KY</td><td> KENTUCKY</td><td>85713398240.4</td></tr><tr><td>MI</td><td> MICHIGAN</td><td>81600382916.1</td></tr></table></div>\n",
       "    <br />(rows: 89, time: 1.5s, cached, job: job_xz8OgI40jd2GPlDk9J5fqZjxTDY)<br />\n",
       "    <script>\n",
       "      require(['extensions/charting', 'element!7_146516669984', 'style!/static/extensions/charting.css'],\n",
       "        function(charts, dom) {\n",
       "          charts.render(dom,\n",
       "            {\n",
       "              chartStyle:\"paged_table\",\n",
       "              dataName:\"6\",\n",
       "              fields:\"state_code,state_name,sum_dollarsobligated\",\n",
       "              totalRows:89,\n",
       "              rowsPerPage:25,\n",
       "            }, {}, {\"rows\": [{\"c\": [{\"v\": \"CA\"}, {\"v\": \" \"}, {\"v\": 712598903910.6709}]}, {\"c\": [{\"v\": \"VA\"}, {\"v\": \" VIRGINIA\"}, {\"v\": 697817723705.3901}]}, {\"c\": [{\"v\": \":\"}, {\"v\": \"\"}, {\"v\": 667791793513.7485}]}, {\"c\": [{\"v\": \"TX\"}, {\"v\": \" TEXAS\"}, {\"v\": 512968110672.57043}]}, {\"c\": [{\"v\": \"MD\"}, {\"v\": \" MARYLAND\"}, {\"v\": 351494588832.51935}]}, {\"c\": [{\"v\": \"DC\"}, {\"v\": \" DISTRICT OF COLUMBIA\"}, {\"v\": 258102498463.2103}]}, {\"c\": [{\"v\": \"PA\"}, {\"v\": \" PENNSYLVANIA\"}, {\"v\": 210745481833.37125}]}, {\"c\": [{\"v\": \"FL\"}, {\"v\": \" FLORIDA\"}, {\"v\": 210241041129.29965}]}, {\"c\": [{\"v\": \"MA\"}, {\"v\": \" MASSACHUSETTS\"}, {\"v\": 184166810726.58}]}, {\"c\": [{\"v\": \"AZ\"}, {\"v\": \" ARIZONA\"}, {\"v\": 168027358300.96024}]}, {\"c\": [{\"v\": \"CT\"}, {\"v\": \" CONNECTICUT\"}, {\"v\": 161606644689.70013}]}, {\"c\": [{\"v\": \"MO\"}, {\"v\": \" MISSOURI\"}, {\"v\": 158477274894.61005}]}, {\"c\": [{\"v\": \"NY\"}, {\"v\": \" NEW YORK\"}, {\"v\": 150885801472.92984}]}, {\"c\": [{\"v\": \"WA\"}, {\"v\": \" WASHINGTON\"}, {\"v\": 145630044425.0001}]}, {\"c\": [{\"v\": \"GA\"}, {\"v\": \" GEORGIA\"}, {\"v\": 140264459672.98993}]}, {\"c\": [{\"v\": \"AL\"}, {\"v\": \" ALABAMA\"}, {\"v\": 139065794738.24985}]}, {\"c\": [{\"v\": \"CO\"}, {\"v\": \" COLORADO\"}, {\"v\": 119793072248.78992}]}, {\"c\": [{\"v\": \"IL\"}, {\"v\": \" ILLINOIS\"}, {\"v\": 119266682186.78993}]}, {\"c\": [{\"v\": \"NM\"}, {\"v\": \" NEW MEXICO\"}, {\"v\": 111178508245.8199}]}, {\"c\": [{\"v\": \"TN\"}, {\"v\": \" TENNESSEE\"}, {\"v\": 108883193392.05989}]}, {\"c\": [{\"v\": \"OH\"}, {\"v\": \" OHIO\"}, {\"v\": 107798459749.37006}]}, {\"c\": [{\"v\": \"NJ\"}, {\"v\": \" NEW JERSEY\"}, {\"v\": 106487949719.40999}]}, {\"c\": [{\"v\": \"SC\"}, {\"v\": \" SOUTH CAROLINA\"}, {\"v\": 87058229568.83003}]}, {\"c\": [{\"v\": \"KY\"}, {\"v\": \" KENTUCKY\"}, {\"v\": 85713398240.40002}]}, {\"c\": [{\"v\": \"MI\"}, {\"v\": \" MICHIGAN\"}, {\"v\": 81600382916.09999}]}], \"cols\": [{\"type\": \"string\", \"id\": \"state_code\", \"label\": \"state_code\"}, {\"type\": \"string\", \"id\": \"state_name\", \"label\": \"state_name\"}, {\"type\": \"number\", \"id\": \"sum_dollarsobligated\", \"label\": \"sum_dollarsobligated\"}]});\n",
       "        }\n",
       "      );\n",
       "    </script>\n",
       "  "
      ],
      "text/plain": [
       "QueryResultsTable job_xz8OgI40jd2GPlDk9J5fqZjxTDY"
      ]
     },
     "execution_count": 10,
     "metadata": {},
     "output_type": "execute_result"
    }
   ],
   "source": [
    "%%sql\n",
    "select\n",
    "  substr(pop_state_code, 1, 2) state_code,\n",
    "  first(substr(pop_state_code, 4)) state_name,\n",
    "  sum(dollarsobligated) sum_dollarsobligated\n",
    "from\n",
    "  gpqueries:contracts.raw\n",
    "group by\n",
    "  state_code\n",
    "order by\n",
    "  sum_dollarsobligated desc"
   ]
  },
  {
   "cell_type": "markdown",
   "metadata": {},
   "source": [
    "## Facts about Government Contracting"
   ]
  },
  {
   "cell_type": "markdown",
   "metadata": {},
   "source": [
    "Let's check some popular statements about government contracting."
   ]
  },
  {
   "cell_type": "markdown",
   "metadata": {},
   "source": [
    "### Small Businesses Win Most Contracts"
   ]
  },
  {
   "cell_type": "markdown",
   "metadata": {},
   "source": [
    "Contractors had to report their revenue and the number of employees. It makes easy to check if small business is welcomed in government contracting:"
   ]
  },
  {
   "cell_type": "code",
   "execution_count": 11,
   "metadata": {
    "collapsed": false
   },
   "outputs": [],
   "source": [
    "%%sql --module gpq\n",
    "\n",
    "define query vendor_size_by_agency\n",
    "select\n",
    "  substr(agencyid, 1, 4) agency_id,\n",
    "  first(substr(agencyid, 7)) agency_name,\n",
    "  nth(11, quantiles(annualrevenue, 21)) vendor_median_annualrevenue,\n",
    "  nth(11, quantiles(numberofemployees, 21)) vendor_median_numberofemployees,\n",
    "  count(*) transactions,\n",
    "  sum(dollarsobligated) sum_dollarsobligated\n",
    "from\n",
    "  gpqueries:contracts.raw\n",
    "group by\n",
    "  agency_id\n",
    "having\n",
    "  transactions > 1000 and\n",
    "  sum_dollarsobligated > 10e6\n",
    "order by\n",
    "  vendor_median_annualrevenue asc"
   ]
  },
  {
   "cell_type": "code",
   "execution_count": 12,
   "metadata": {
    "collapsed": false
   },
   "outputs": [
    {
     "data": {
      "text/html": [
       "<div>\n",
       "<table border=\"1\" class=\"dataframe\">\n",
       "  <thead>\n",
       "    <tr style=\"text-align: right;\">\n",
       "      <th></th>\n",
       "      <th>agency_id</th>\n",
       "      <th>agency_name</th>\n",
       "      <th>vendor_median_annualrevenue</th>\n",
       "      <th>vendor_median_numberofemployees</th>\n",
       "      <th>transactions</th>\n",
       "      <th>sum_dollarsobligated</th>\n",
       "    </tr>\n",
       "  </thead>\n",
       "  <tbody>\n",
       "    <tr>\n",
       "      <th>0</th>\n",
       "      <td>1242</td>\n",
       "      <td>ANIMAL AND PLANT HEALTH INSPECTION SERVICE</td>\n",
       "      <td>0.0</td>\n",
       "      <td>0</td>\n",
       "      <td>1268</td>\n",
       "      <td>1.418465e+08</td>\n",
       "    </tr>\n",
       "    <tr>\n",
       "      <th>1</th>\n",
       "      <td>1528</td>\n",
       "      <td>IMMIGRATION AND NATURALIZATION SERVICE</td>\n",
       "      <td>0.0</td>\n",
       "      <td>0</td>\n",
       "      <td>4858</td>\n",
       "      <td>1.808390e+09</td>\n",
       "    </tr>\n",
       "    <tr>\n",
       "      <th>2</th>\n",
       "      <td>5800</td>\n",
       "      <td>FEDERAL EMERGENCY MANAGEMENT AGENCY</td>\n",
       "      <td>0.0</td>\n",
       "      <td>0</td>\n",
       "      <td>3857</td>\n",
       "      <td>7.360614e+08</td>\n",
       "    </tr>\n",
       "    <tr>\n",
       "      <th>3</th>\n",
       "      <td>1900</td>\n",
       "      <td>STATE, DEPARTMENT OF</td>\n",
       "      <td>1000.0</td>\n",
       "      <td>10</td>\n",
       "      <td>906835</td>\n",
       "      <td>9.612514e+10</td>\n",
       "    </tr>\n",
       "    <tr>\n",
       "      <th>4</th>\n",
       "      <td>9568</td>\n",
       "      <td>BROADCASTING BOARD OF GOVERNORS</td>\n",
       "      <td>1000.0</td>\n",
       "      <td>1</td>\n",
       "      <td>86580</td>\n",
       "      <td>1.719051e+09</td>\n",
       "    </tr>\n",
       "    <tr>\n",
       "      <th>5</th>\n",
       "      <td>7200</td>\n",
       "      <td>AGENCY FOR INTERNATIONAL DEVELOPMENT</td>\n",
       "      <td>1000.0</td>\n",
       "      <td>10</td>\n",
       "      <td>112903</td>\n",
       "      <td>5.683631e+10</td>\n",
       "    </tr>\n",
       "    <tr>\n",
       "      <th>6</th>\n",
       "      <td>2800</td>\n",
       "      <td>SOCIAL SECURITY ADMINISTRATION</td>\n",
       "      <td>81000.0</td>\n",
       "      <td>1</td>\n",
       "      <td>140669</td>\n",
       "      <td>1.636968e+10</td>\n",
       "    </tr>\n",
       "    <tr>\n",
       "      <th>7</th>\n",
       "      <td>1226</td>\n",
       "      <td>FOREST SERVICE</td>\n",
       "      <td>100000.0</td>\n",
       "      <td>2</td>\n",
       "      <td>24686</td>\n",
       "      <td>1.554254e+09</td>\n",
       "    </tr>\n",
       "    <tr>\n",
       "      <th>8</th>\n",
       "      <td>12E3</td>\n",
       "      <td>RURAL HOUSING SERVICE</td>\n",
       "      <td>110000.0</td>\n",
       "      <td>2</td>\n",
       "      <td>87659</td>\n",
       "      <td>1.124532e+09</td>\n",
       "    </tr>\n",
       "    <tr>\n",
       "      <th>9</th>\n",
       "      <td>2028</td>\n",
       "      <td>U.S. SECRET SERVICE</td>\n",
       "      <td>110000.0</td>\n",
       "      <td>2</td>\n",
       "      <td>1144</td>\n",
       "      <td>1.870609e+08</td>\n",
       "    </tr>\n",
       "    <tr>\n",
       "      <th>10</th>\n",
       "      <td>2001</td>\n",
       "      <td>DEPARTMENTAL OFFICES</td>\n",
       "      <td>128000.0</td>\n",
       "      <td>5</td>\n",
       "      <td>17514</td>\n",
       "      <td>2.408785e+09</td>\n",
       "    </tr>\n",
       "    <tr>\n",
       "      <th>11</th>\n",
       "      <td>4500</td>\n",
       "      <td>EQUAL EMPLOYMENT OPPORTUNITY COMMISSION</td>\n",
       "      <td>150000.0</td>\n",
       "      <td>3</td>\n",
       "      <td>32309</td>\n",
       "      <td>7.296316e+08</td>\n",
       "    </tr>\n",
       "    <tr>\n",
       "      <th>12</th>\n",
       "      <td>9524</td>\n",
       "      <td>NATIONAL MEDIATION BOARD</td>\n",
       "      <td>150000.0</td>\n",
       "      <td>2</td>\n",
       "      <td>1578</td>\n",
       "      <td>1.539304e+07</td>\n",
       "    </tr>\n",
       "    <tr>\n",
       "      <th>13</th>\n",
       "      <td>1560</td>\n",
       "      <td>ATF ACQUISITION AND PROPERTY MGMT DIV</td>\n",
       "      <td>500000.0</td>\n",
       "      <td>7</td>\n",
       "      <td>43268</td>\n",
       "      <td>2.834267e+09</td>\n",
       "    </tr>\n",
       "    <tr>\n",
       "      <th>14</th>\n",
       "      <td>1227</td>\n",
       "      <td>SOIL CONSERVATION SERVICE</td>\n",
       "      <td>600000.0</td>\n",
       "      <td>10</td>\n",
       "      <td>1202</td>\n",
       "      <td>2.188730e+08</td>\n",
       "    </tr>\n",
       "    <tr>\n",
       "      <th>15</th>\n",
       "      <td>2026</td>\n",
       "      <td>FINANCIAL CRIME ENFORCEMENT NETWORK</td>\n",
       "      <td>700000.0</td>\n",
       "      <td>10</td>\n",
       "      <td>5555</td>\n",
       "      <td>1.951988e+09</td>\n",
       "    </tr>\n",
       "    <tr>\n",
       "      <th>16</th>\n",
       "      <td>2022</td>\n",
       "      <td>ALCOHOL AND TOBACCO TAX AND TRADE BUREAU</td>\n",
       "      <td>757000.0</td>\n",
       "      <td>11</td>\n",
       "      <td>1850</td>\n",
       "      <td>3.831141e+08</td>\n",
       "    </tr>\n",
       "    <tr>\n",
       "      <th>17</th>\n",
       "      <td>12C2</td>\n",
       "      <td>FOREST SERVICE</td>\n",
       "      <td>850000.0</td>\n",
       "      <td>10</td>\n",
       "      <td>431521</td>\n",
       "      <td>1.722469e+10</td>\n",
       "    </tr>\n",
       "    <tr>\n",
       "      <th>18</th>\n",
       "      <td>7520</td>\n",
       "      <td>PUBLIC HEALTH SERVICE</td>\n",
       "      <td>890000.0</td>\n",
       "      <td>11</td>\n",
       "      <td>10775</td>\n",
       "      <td>1.076623e+09</td>\n",
       "    </tr>\n",
       "    <tr>\n",
       "      <th>19</th>\n",
       "      <td>6950</td>\n",
       "      <td>UNITED STATES COAST GUARD</td>\n",
       "      <td>1100000.0</td>\n",
       "      <td>15</td>\n",
       "      <td>25750</td>\n",
       "      <td>2.632710e+09</td>\n",
       "    </tr>\n",
       "    <tr>\n",
       "      <th>20</th>\n",
       "      <td>1422</td>\n",
       "      <td>BUREAU OF LAND MANAGEMENT</td>\n",
       "      <td>1100000.0</td>\n",
       "      <td>12</td>\n",
       "      <td>173546</td>\n",
       "      <td>4.997679e+09</td>\n",
       "    </tr>\n",
       "    <tr>\n",
       "      <th>21</th>\n",
       "      <td>2024</td>\n",
       "      <td>FEDERAL LAW ENFORCEMENT TRAINING CENTER</td>\n",
       "      <td>1100000.0</td>\n",
       "      <td>20</td>\n",
       "      <td>3227</td>\n",
       "      <td>2.085935e+08</td>\n",
       "    </tr>\n",
       "    <tr>\n",
       "      <th>22</th>\n",
       "      <td>6100</td>\n",
       "      <td>CONSUMER PRODUCT SAFETY COMMISSION</td>\n",
       "      <td>1100000.0</td>\n",
       "      <td>26</td>\n",
       "      <td>11533</td>\n",
       "      <td>2.786294e+08</td>\n",
       "    </tr>\n",
       "    <tr>\n",
       "      <th>23</th>\n",
       "      <td>1438</td>\n",
       "      <td>OFFICE OF SURFACE MINING, RECLAMATION AND ENFO...</td>\n",
       "      <td>1100000.0</td>\n",
       "      <td>10</td>\n",
       "      <td>11108</td>\n",
       "      <td>1.894074e+08</td>\n",
       "    </tr>\n",
       "    <tr>\n",
       "      <th>24</th>\n",
       "      <td>1153</td>\n",
       "      <td>UNITED STATES TRADE AND DEVELOPMENT AGENCY</td>\n",
       "      <td>1183519.0</td>\n",
       "      <td>10</td>\n",
       "      <td>2032</td>\n",
       "      <td>1.256019e+08</td>\n",
       "    </tr>\n",
       "    <tr>\n",
       "      <th>25</th>\n",
       "      <td>1230</td>\n",
       "      <td>AGRICULTURAL RESEARCH SERVICE</td>\n",
       "      <td>1300000.0</td>\n",
       "      <td>12</td>\n",
       "      <td>3171</td>\n",
       "      <td>3.087970e+08</td>\n",
       "    </tr>\n",
       "    <tr>\n",
       "      <th>26</th>\n",
       "      <td>2046</td>\n",
       "      <td>OFFICE OF THE COMPTROLLER OF THE CURRENCY</td>\n",
       "      <td>1400000.0</td>\n",
       "      <td>22</td>\n",
       "      <td>14898</td>\n",
       "      <td>1.668664e+09</td>\n",
       "    </tr>\n",
       "    <tr>\n",
       "      <th>27</th>\n",
       "      <td>1603</td>\n",
       "      <td>OFFICE OF THE SOLICITOR</td>\n",
       "      <td>1440000.0</td>\n",
       "      <td>21</td>\n",
       "      <td>1748</td>\n",
       "      <td>5.414278e+07</td>\n",
       "    </tr>\n",
       "    <tr>\n",
       "      <th>28</th>\n",
       "      <td>4740</td>\n",
       "      <td>PUBLIC BUILDINGS SERVICE</td>\n",
       "      <td>1573150.0</td>\n",
       "      <td>7</td>\n",
       "      <td>1488711</td>\n",
       "      <td>9.933295e+10</td>\n",
       "    </tr>\n",
       "    <tr>\n",
       "      <th>29</th>\n",
       "      <td>12C3</td>\n",
       "      <td>NATURAL RESOURCES CONSERVATION SERVICE</td>\n",
       "      <td>1631681.0</td>\n",
       "      <td>20</td>\n",
       "      <td>44705</td>\n",
       "      <td>1.585386e+09</td>\n",
       "    </tr>\n",
       "    <tr>\n",
       "      <th>...</th>\n",
       "      <td>...</td>\n",
       "      <td>...</td>\n",
       "      <td>...</td>\n",
       "      <td>...</td>\n",
       "      <td>...</td>\n",
       "      <td>...</td>\n",
       "    </tr>\n",
       "    <tr>\n",
       "      <th>121</th>\n",
       "      <td>2044</td>\n",
       "      <td>UNITED STATES MINT</td>\n",
       "      <td>10000000.0</td>\n",
       "      <td>50</td>\n",
       "      <td>53574</td>\n",
       "      <td>3.109847e+10</td>\n",
       "    </tr>\n",
       "    <tr>\n",
       "      <th>122</th>\n",
       "      <td>2700</td>\n",
       "      <td>FEDERAL COMMUNICATIONS COMMISSION</td>\n",
       "      <td>10000000.0</td>\n",
       "      <td>130</td>\n",
       "      <td>9954</td>\n",
       "      <td>1.160409e+09</td>\n",
       "    </tr>\n",
       "    <tr>\n",
       "      <th>123</th>\n",
       "      <td>9507</td>\n",
       "      <td>COMMODITY FUTURES TRADING COMMISSION</td>\n",
       "      <td>10500000.0</td>\n",
       "      <td>140</td>\n",
       "      <td>5559</td>\n",
       "      <td>5.247360e+08</td>\n",
       "    </tr>\n",
       "    <tr>\n",
       "      <th>124</th>\n",
       "      <td>4705</td>\n",
       "      <td>OFFICE OF THE ADMINISTRATOR(ACMD)</td>\n",
       "      <td>11000000.0</td>\n",
       "      <td>91</td>\n",
       "      <td>5894</td>\n",
       "      <td>1.319038e+09</td>\n",
       "    </tr>\n",
       "    <tr>\n",
       "      <th>125</th>\n",
       "      <td>7529</td>\n",
       "      <td>NATIONAL INSTITUTES OF HEALTH</td>\n",
       "      <td>11000000.0</td>\n",
       "      <td>115</td>\n",
       "      <td>401609</td>\n",
       "      <td>6.319064e+10</td>\n",
       "    </tr>\n",
       "    <tr>\n",
       "      <th>126</th>\n",
       "      <td>1540</td>\n",
       "      <td>FEDERAL PRISON SYSTEM</td>\n",
       "      <td>11000000.0</td>\n",
       "      <td>70</td>\n",
       "      <td>1019429</td>\n",
       "      <td>3.446292e+10</td>\n",
       "    </tr>\n",
       "    <tr>\n",
       "      <th>127</th>\n",
       "      <td>1665</td>\n",
       "      <td>PENSION BENEFIT GUARANTY CORPORATION</td>\n",
       "      <td>11000000.0</td>\n",
       "      <td>200</td>\n",
       "      <td>12647</td>\n",
       "      <td>3.141358e+09</td>\n",
       "    </tr>\n",
       "    <tr>\n",
       "      <th>128</th>\n",
       "      <td>7003</td>\n",
       "      <td>U.S. CITIZENSHIP AND IMMIGRATION SERVICES</td>\n",
       "      <td>11000000.0</td>\n",
       "      <td>72</td>\n",
       "      <td>37832</td>\n",
       "      <td>8.801395e+09</td>\n",
       "    </tr>\n",
       "    <tr>\n",
       "      <th>129</th>\n",
       "      <td>1344</td>\n",
       "      <td>PATENT AND TRADEMARK OFFICE</td>\n",
       "      <td>11000645.0</td>\n",
       "      <td>88</td>\n",
       "      <td>30012</td>\n",
       "      <td>8.576179e+09</td>\n",
       "    </tr>\n",
       "    <tr>\n",
       "      <th>130</th>\n",
       "      <td>3355</td>\n",
       "      <td>NATIONAL GALLERY OF ART</td>\n",
       "      <td>11500000.0</td>\n",
       "      <td>52</td>\n",
       "      <td>4034</td>\n",
       "      <td>3.882365e+08</td>\n",
       "    </tr>\n",
       "    <tr>\n",
       "      <th>131</th>\n",
       "      <td>6000</td>\n",
       "      <td>RAILROAD RETIREMENT BOARD</td>\n",
       "      <td>12000000.0</td>\n",
       "      <td>130</td>\n",
       "      <td>5483</td>\n",
       "      <td>2.725028e+08</td>\n",
       "    </tr>\n",
       "    <tr>\n",
       "      <th>132</th>\n",
       "      <td>19BM</td>\n",
       "      <td>INTERNATIONAL BOUNDARY AND WATER COMMISSION: U...</td>\n",
       "      <td>13209362.0</td>\n",
       "      <td>97</td>\n",
       "      <td>4832</td>\n",
       "      <td>6.288717e+08</td>\n",
       "    </tr>\n",
       "    <tr>\n",
       "      <th>133</th>\n",
       "      <td>8961</td>\n",
       "      <td>FEDERAL ENERGY REGULATORY COMMISSION</td>\n",
       "      <td>14996000.0</td>\n",
       "      <td>58</td>\n",
       "      <td>5678</td>\n",
       "      <td>5.596401e+08</td>\n",
       "    </tr>\n",
       "    <tr>\n",
       "      <th>134</th>\n",
       "      <td>4704</td>\n",
       "      <td>OFFICE OF INSPECTOR GENERAL</td>\n",
       "      <td>15000000.0</td>\n",
       "      <td>70</td>\n",
       "      <td>1134</td>\n",
       "      <td>3.663729e+07</td>\n",
       "    </tr>\n",
       "    <tr>\n",
       "      <th>135</th>\n",
       "      <td>3600</td>\n",
       "      <td>VETERANS AFFAIRS, DEPARTMENT OF</td>\n",
       "      <td>15000000.0</td>\n",
       "      <td>149</td>\n",
       "      <td>5285240</td>\n",
       "      <td>2.059998e+11</td>\n",
       "    </tr>\n",
       "    <tr>\n",
       "      <th>136</th>\n",
       "      <td>4732</td>\n",
       "      <td>FEDERAL ACQUISITION SERVICE</td>\n",
       "      <td>15000000.0</td>\n",
       "      <td>57</td>\n",
       "      <td>1413873</td>\n",
       "      <td>2.911922e+10</td>\n",
       "    </tr>\n",
       "    <tr>\n",
       "      <th>137</th>\n",
       "      <td>8000</td>\n",
       "      <td>NATIONAL AERONAUTICS AND SPACE ADMINISTRATION</td>\n",
       "      <td>18000000.0</td>\n",
       "      <td>180</td>\n",
       "      <td>446963</td>\n",
       "      <td>2.112742e+11</td>\n",
       "    </tr>\n",
       "    <tr>\n",
       "      <th>138</th>\n",
       "      <td>1549</td>\n",
       "      <td>FEDERAL BUREAU OF INVESTIGATION</td>\n",
       "      <td>18000000.0</td>\n",
       "      <td>100</td>\n",
       "      <td>72815</td>\n",
       "      <td>1.711656e+10</td>\n",
       "    </tr>\n",
       "    <tr>\n",
       "      <th>139</th>\n",
       "      <td>12D2</td>\n",
       "      <td>FARM SERVICE AGENCY</td>\n",
       "      <td>18000000.0</td>\n",
       "      <td>100</td>\n",
       "      <td>35722</td>\n",
       "      <td>1.874517e+10</td>\n",
       "    </tr>\n",
       "    <tr>\n",
       "      <th>140</th>\n",
       "      <td>6940</td>\n",
       "      <td>NATIONAL HIGHWAY TRAFFIC SAFETY ADMINISTRATION</td>\n",
       "      <td>19000000.0</td>\n",
       "      <td>120</td>\n",
       "      <td>12252</td>\n",
       "      <td>1.890718e+09</td>\n",
       "    </tr>\n",
       "    <tr>\n",
       "      <th>141</th>\n",
       "      <td>6930</td>\n",
       "      <td>FEDERAL RAILROAD ADMINISTRATION</td>\n",
       "      <td>20000000.0</td>\n",
       "      <td>579</td>\n",
       "      <td>12444</td>\n",
       "      <td>8.030557e+08</td>\n",
       "    </tr>\n",
       "    <tr>\n",
       "      <th>142</th>\n",
       "      <td>0559</td>\n",
       "      <td>GAO, EXCEPT COMPTROLLER GENERAL</td>\n",
       "      <td>20201548.0</td>\n",
       "      <td>189</td>\n",
       "      <td>2728</td>\n",
       "      <td>4.145613e+08</td>\n",
       "    </tr>\n",
       "    <tr>\n",
       "      <th>143</th>\n",
       "      <td>7001</td>\n",
       "      <td>OFFICE OF PROCUREMENT OPERATIONS</td>\n",
       "      <td>20828724.0</td>\n",
       "      <td>383</td>\n",
       "      <td>71728</td>\n",
       "      <td>2.463028e+10</td>\n",
       "    </tr>\n",
       "    <tr>\n",
       "      <th>144</th>\n",
       "      <td>7505</td>\n",
       "      <td>OFFICE OF ASSISTANT SECRETARY FOR ADMINISTRATI...</td>\n",
       "      <td>26106972.0</td>\n",
       "      <td>304</td>\n",
       "      <td>5181</td>\n",
       "      <td>1.413397e+10</td>\n",
       "    </tr>\n",
       "    <tr>\n",
       "      <th>145</th>\n",
       "      <td>9000</td>\n",
       "      <td>SELECTIVE SERVICE SYSTEM</td>\n",
       "      <td>30457000.0</td>\n",
       "      <td>300</td>\n",
       "      <td>1141</td>\n",
       "      <td>2.356269e+07</td>\n",
       "    </tr>\n",
       "    <tr>\n",
       "      <th>146</th>\n",
       "      <td>7528</td>\n",
       "      <td>AGENCY FOR HEALTHCARE RESEARCH AND QUALITY</td>\n",
       "      <td>32800000.0</td>\n",
       "      <td>1200</td>\n",
       "      <td>6719</td>\n",
       "      <td>2.759358e+09</td>\n",
       "    </tr>\n",
       "    <tr>\n",
       "      <th>147</th>\n",
       "      <td>1436</td>\n",
       "      <td>BUREAU OF SAFETY AND ENVIRONMENTAL ENFORCEMENT</td>\n",
       "      <td>32850550.0</td>\n",
       "      <td>141</td>\n",
       "      <td>2958</td>\n",
       "      <td>2.827946e+08</td>\n",
       "    </tr>\n",
       "    <tr>\n",
       "      <th>148</th>\n",
       "      <td>1524</td>\n",
       "      <td>DRUG ENFORCEMENT ADMINISTRATION</td>\n",
       "      <td>40000000.0</td>\n",
       "      <td>350</td>\n",
       "      <td>261796</td>\n",
       "      <td>6.429977e+09</td>\n",
       "    </tr>\n",
       "    <tr>\n",
       "      <th>149</th>\n",
       "      <td>12K2</td>\n",
       "      <td>AGRICULTURAL MARKETING SERVICE</td>\n",
       "      <td>50000000.0</td>\n",
       "      <td>296</td>\n",
       "      <td>22835</td>\n",
       "      <td>1.623015e+10</td>\n",
       "    </tr>\n",
       "    <tr>\n",
       "      <th>150</th>\n",
       "      <td>1544</td>\n",
       "      <td>U.S. MARSHALS SERVICE</td>\n",
       "      <td>120000000.0</td>\n",
       "      <td>2000</td>\n",
       "      <td>78441</td>\n",
       "      <td>7.840888e+09</td>\n",
       "    </tr>\n",
       "  </tbody>\n",
       "</table>\n",
       "<p>151 rows × 6 columns</p>\n",
       "</div>"
      ],
      "text/plain": [
       "    agency_id                                        agency_name  \\\n",
       "0        1242         ANIMAL AND PLANT HEALTH INSPECTION SERVICE   \n",
       "1        1528             IMMIGRATION AND NATURALIZATION SERVICE   \n",
       "2        5800                FEDERAL EMERGENCY MANAGEMENT AGENCY   \n",
       "3        1900                               STATE, DEPARTMENT OF   \n",
       "4        9568                    BROADCASTING BOARD OF GOVERNORS   \n",
       "5        7200               AGENCY FOR INTERNATIONAL DEVELOPMENT   \n",
       "6        2800                     SOCIAL SECURITY ADMINISTRATION   \n",
       "7        1226                                     FOREST SERVICE   \n",
       "8        12E3                              RURAL HOUSING SERVICE   \n",
       "9        2028                                U.S. SECRET SERVICE   \n",
       "10       2001                               DEPARTMENTAL OFFICES   \n",
       "11       4500            EQUAL EMPLOYMENT OPPORTUNITY COMMISSION   \n",
       "12       9524                           NATIONAL MEDIATION BOARD   \n",
       "13       1560              ATF ACQUISITION AND PROPERTY MGMT DIV   \n",
       "14       1227                          SOIL CONSERVATION SERVICE   \n",
       "15       2026                FINANCIAL CRIME ENFORCEMENT NETWORK   \n",
       "16       2022           ALCOHOL AND TOBACCO TAX AND TRADE BUREAU   \n",
       "17       12C2                                     FOREST SERVICE   \n",
       "18       7520                              PUBLIC HEALTH SERVICE   \n",
       "19       6950                          UNITED STATES COAST GUARD   \n",
       "20       1422                          BUREAU OF LAND MANAGEMENT   \n",
       "21       2024            FEDERAL LAW ENFORCEMENT TRAINING CENTER   \n",
       "22       6100                 CONSUMER PRODUCT SAFETY COMMISSION   \n",
       "23       1438  OFFICE OF SURFACE MINING, RECLAMATION AND ENFO...   \n",
       "24       1153         UNITED STATES TRADE AND DEVELOPMENT AGENCY   \n",
       "25       1230                      AGRICULTURAL RESEARCH SERVICE   \n",
       "26       2046          OFFICE OF THE COMPTROLLER OF THE CURRENCY   \n",
       "27       1603                            OFFICE OF THE SOLICITOR   \n",
       "28       4740                           PUBLIC BUILDINGS SERVICE   \n",
       "29       12C3             NATURAL RESOURCES CONSERVATION SERVICE   \n",
       "..        ...                                                ...   \n",
       "121      2044                                 UNITED STATES MINT   \n",
       "122      2700                  FEDERAL COMMUNICATIONS COMMISSION   \n",
       "123      9507               COMMODITY FUTURES TRADING COMMISSION   \n",
       "124      4705                  OFFICE OF THE ADMINISTRATOR(ACMD)   \n",
       "125      7529                      NATIONAL INSTITUTES OF HEALTH   \n",
       "126      1540                              FEDERAL PRISON SYSTEM   \n",
       "127      1665               PENSION BENEFIT GUARANTY CORPORATION   \n",
       "128      7003          U.S. CITIZENSHIP AND IMMIGRATION SERVICES   \n",
       "129      1344                        PATENT AND TRADEMARK OFFICE   \n",
       "130      3355                            NATIONAL GALLERY OF ART   \n",
       "131      6000                          RAILROAD RETIREMENT BOARD   \n",
       "132      19BM  INTERNATIONAL BOUNDARY AND WATER COMMISSION: U...   \n",
       "133      8961               FEDERAL ENERGY REGULATORY COMMISSION   \n",
       "134      4704                        OFFICE OF INSPECTOR GENERAL   \n",
       "135      3600                    VETERANS AFFAIRS, DEPARTMENT OF   \n",
       "136      4732                        FEDERAL ACQUISITION SERVICE   \n",
       "137      8000      NATIONAL AERONAUTICS AND SPACE ADMINISTRATION   \n",
       "138      1549                    FEDERAL BUREAU OF INVESTIGATION   \n",
       "139      12D2                                FARM SERVICE AGENCY   \n",
       "140      6940     NATIONAL HIGHWAY TRAFFIC SAFETY ADMINISTRATION   \n",
       "141      6930                    FEDERAL RAILROAD ADMINISTRATION   \n",
       "142      0559                    GAO, EXCEPT COMPTROLLER GENERAL   \n",
       "143      7001                   OFFICE OF PROCUREMENT OPERATIONS   \n",
       "144      7505  OFFICE OF ASSISTANT SECRETARY FOR ADMINISTRATI...   \n",
       "145      9000                           SELECTIVE SERVICE SYSTEM   \n",
       "146      7528         AGENCY FOR HEALTHCARE RESEARCH AND QUALITY   \n",
       "147      1436     BUREAU OF SAFETY AND ENVIRONMENTAL ENFORCEMENT   \n",
       "148      1524                    DRUG ENFORCEMENT ADMINISTRATION   \n",
       "149      12K2                     AGRICULTURAL MARKETING SERVICE   \n",
       "150      1544                              U.S. MARSHALS SERVICE   \n",
       "\n",
       "     vendor_median_annualrevenue  vendor_median_numberofemployees  \\\n",
       "0                            0.0                                0   \n",
       "1                            0.0                                0   \n",
       "2                            0.0                                0   \n",
       "3                         1000.0                               10   \n",
       "4                         1000.0                                1   \n",
       "5                         1000.0                               10   \n",
       "6                        81000.0                                1   \n",
       "7                       100000.0                                2   \n",
       "8                       110000.0                                2   \n",
       "9                       110000.0                                2   \n",
       "10                      128000.0                                5   \n",
       "11                      150000.0                                3   \n",
       "12                      150000.0                                2   \n",
       "13                      500000.0                                7   \n",
       "14                      600000.0                               10   \n",
       "15                      700000.0                               10   \n",
       "16                      757000.0                               11   \n",
       "17                      850000.0                               10   \n",
       "18                      890000.0                               11   \n",
       "19                     1100000.0                               15   \n",
       "20                     1100000.0                               12   \n",
       "21                     1100000.0                               20   \n",
       "22                     1100000.0                               26   \n",
       "23                     1100000.0                               10   \n",
       "24                     1183519.0                               10   \n",
       "25                     1300000.0                               12   \n",
       "26                     1400000.0                               22   \n",
       "27                     1440000.0                               21   \n",
       "28                     1573150.0                                7   \n",
       "29                     1631681.0                               20   \n",
       "..                           ...                              ...   \n",
       "121                   10000000.0                               50   \n",
       "122                   10000000.0                              130   \n",
       "123                   10500000.0                              140   \n",
       "124                   11000000.0                               91   \n",
       "125                   11000000.0                              115   \n",
       "126                   11000000.0                               70   \n",
       "127                   11000000.0                              200   \n",
       "128                   11000000.0                               72   \n",
       "129                   11000645.0                               88   \n",
       "130                   11500000.0                               52   \n",
       "131                   12000000.0                              130   \n",
       "132                   13209362.0                               97   \n",
       "133                   14996000.0                               58   \n",
       "134                   15000000.0                               70   \n",
       "135                   15000000.0                              149   \n",
       "136                   15000000.0                               57   \n",
       "137                   18000000.0                              180   \n",
       "138                   18000000.0                              100   \n",
       "139                   18000000.0                              100   \n",
       "140                   19000000.0                              120   \n",
       "141                   20000000.0                              579   \n",
       "142                   20201548.0                              189   \n",
       "143                   20828724.0                              383   \n",
       "144                   26106972.0                              304   \n",
       "145                   30457000.0                              300   \n",
       "146                   32800000.0                             1200   \n",
       "147                   32850550.0                              141   \n",
       "148                   40000000.0                              350   \n",
       "149                   50000000.0                              296   \n",
       "150                  120000000.0                             2000   \n",
       "\n",
       "     transactions  sum_dollarsobligated  \n",
       "0            1268          1.418465e+08  \n",
       "1            4858          1.808390e+09  \n",
       "2            3857          7.360614e+08  \n",
       "3          906835          9.612514e+10  \n",
       "4           86580          1.719051e+09  \n",
       "5          112903          5.683631e+10  \n",
       "6          140669          1.636968e+10  \n",
       "7           24686          1.554254e+09  \n",
       "8           87659          1.124532e+09  \n",
       "9            1144          1.870609e+08  \n",
       "10          17514          2.408785e+09  \n",
       "11          32309          7.296316e+08  \n",
       "12           1578          1.539304e+07  \n",
       "13          43268          2.834267e+09  \n",
       "14           1202          2.188730e+08  \n",
       "15           5555          1.951988e+09  \n",
       "16           1850          3.831141e+08  \n",
       "17         431521          1.722469e+10  \n",
       "18          10775          1.076623e+09  \n",
       "19          25750          2.632710e+09  \n",
       "20         173546          4.997679e+09  \n",
       "21           3227          2.085935e+08  \n",
       "22          11533          2.786294e+08  \n",
       "23          11108          1.894074e+08  \n",
       "24           2032          1.256019e+08  \n",
       "25           3171          3.087970e+08  \n",
       "26          14898          1.668664e+09  \n",
       "27           1748          5.414278e+07  \n",
       "28        1488711          9.933295e+10  \n",
       "29          44705          1.585386e+09  \n",
       "..            ...                   ...  \n",
       "121         53574          3.109847e+10  \n",
       "122          9954          1.160409e+09  \n",
       "123          5559          5.247360e+08  \n",
       "124          5894          1.319038e+09  \n",
       "125        401609          6.319064e+10  \n",
       "126       1019429          3.446292e+10  \n",
       "127         12647          3.141358e+09  \n",
       "128         37832          8.801395e+09  \n",
       "129         30012          8.576179e+09  \n",
       "130          4034          3.882365e+08  \n",
       "131          5483          2.725028e+08  \n",
       "132          4832          6.288717e+08  \n",
       "133          5678          5.596401e+08  \n",
       "134          1134          3.663729e+07  \n",
       "135       5285240          2.059998e+11  \n",
       "136       1413873          2.911922e+10  \n",
       "137        446963          2.112742e+11  \n",
       "138         72815          1.711656e+10  \n",
       "139         35722          1.874517e+10  \n",
       "140         12252          1.890718e+09  \n",
       "141         12444          8.030557e+08  \n",
       "142          2728          4.145613e+08  \n",
       "143         71728          2.463028e+10  \n",
       "144          5181          1.413397e+10  \n",
       "145          1141          2.356269e+07  \n",
       "146          6719          2.759358e+09  \n",
       "147          2958          2.827946e+08  \n",
       "148        261796          6.429977e+09  \n",
       "149         22835          1.623015e+10  \n",
       "150         78441          7.840888e+09  \n",
       "\n",
       "[151 rows x 6 columns]"
      ]
     },
     "execution_count": 12,
     "metadata": {},
     "output_type": "execute_result"
    }
   ],
   "source": [
    "bq.Query(gpq.vendor_size_by_agency).to_dataframe()"
   ]
  },
  {
   "cell_type": "markdown",
   "metadata": {},
   "source": [
    "The median shows the most likely supplier. Agencies on the top of the table actively employ vendors whose annual revenue is less than $1mn.\n",
    "\n",
    "The Department of Defence, the largest buyer with $4.5tn worth of goods and services bought over these 17 years, has the median vendor with $2.5mn in revenue and 20 employees. It means that half of the DoD's vendors have less than $2.5mn in revenue."
   ]
  },
  {
   "cell_type": "markdown",
   "metadata": {},
   "source": [
    "### Set-Aside Deals Take a Small Share"
   ]
  },
  {
   "cell_type": "markdown",
   "metadata": {},
   "source": [
    "Set-aside purchases are reserved for special categories of suppliers, like women-, minority-, and veteran-owned businesses. There's a lot of confusion about their share in transactions. We can settle this confusion with data:"
   ]
  },
  {
   "cell_type": "code",
   "execution_count": 13,
   "metadata": {
    "collapsed": false
   },
   "outputs": [
    {
     "data": {
      "text/html": [
       "\n",
       "    <div class=\"bqtv\" id=\"8_146516670452\"><table><tr><th>womenownedflag</th><th>transactions</th><th>sum_dollarsobligated</th></tr><tr><td>N</td><td>40191975</td><td>6.4051823538e+12</td></tr><tr><td>Y</td><td>4308966</td><td>2.48395258992e+11</td></tr></table></div>\n",
       "    <br />(rows: 2, time: 1.8s, cached, job: job_iOFnq8ieeeHX2gxQWTCCr4ZOEuE)<br />\n",
       "    <script>\n",
       "      require(['extensions/charting', 'element!8_146516670452', 'style!/static/extensions/charting.css'],\n",
       "        function(charts, dom) {\n",
       "          charts.render(dom,\n",
       "            {\n",
       "              chartStyle:\"table\",\n",
       "              dataName:\"7\",\n",
       "              fields:\"womenownedflag,transactions,sum_dollarsobligated\",\n",
       "              totalRows:2,\n",
       "              rowsPerPage:25,\n",
       "            }, {}, {\"rows\": [{\"c\": [{\"v\": \"N\"}, {\"v\": 40191975}, {\"v\": 6405182353804.281}]}, {\"c\": [{\"v\": \"Y\"}, {\"v\": 4308966}, {\"v\": 248395258992.29}]}], \"cols\": [{\"type\": \"string\", \"id\": \"womenownedflag\", \"label\": \"womenownedflag\"}, {\"type\": \"number\", \"id\": \"transactions\", \"label\": \"transactions\"}, {\"type\": \"number\", \"id\": \"sum_dollarsobligated\", \"label\": \"sum_dollarsobligated\"}]});\n",
       "        }\n",
       "      );\n",
       "    </script>\n",
       "  "
      ],
      "text/plain": [
       "QueryResultsTable job_iOFnq8ieeeHX2gxQWTCCr4ZOEuE"
      ]
     },
     "execution_count": 13,
     "metadata": {},
     "output_type": "execute_result"
    }
   ],
   "source": [
    "%%sql\n",
    "select\n",
    "  womenownedflag,\n",
    "  count(*) transactions,\n",
    "  sum(dollarsobligated) sum_dollarsobligated\n",
    "from\n",
    "  gpqueries:contracts.raw\n",
    "group by\n",
    "  womenownedflag"
   ]
  },
  {
   "cell_type": "markdown",
   "metadata": {},
   "source": [
    "Women-owned businesses make about one tenth of the transactions, but their share in terms of sales is only 3.7%.\n",
    "\n",
    "A cross-tabulation for major set-aside categories:"
   ]
  },
  {
   "cell_type": "code",
   "execution_count": 14,
   "metadata": {
    "collapsed": false
   },
   "outputs": [
    {
     "data": {
      "text/html": [
       "\n",
       "    <div class=\"bqtv\" id=\"9_146516670582\"><table><tr><th>womenownedflag</th><th>veteranownedflag</th><th>minorityownedbusinessflag</th><th>transactions</th><th>sum_dollarsobligated</th></tr><tr><td>N</td><td>N</td><td>Y</td><td>2051978</td><td>2.70617792041e+11</td></tr><tr><td>N</td><td>N</td><td>N</td><td>35286333</td><td>5.91438262215e+12</td></tr><tr><td>N</td><td>Y</td><td>Y</td><td>494617</td><td>61028950046.2</td></tr><tr><td>N</td><td>Y</td><td>N</td><td>2359047</td><td>1.59152989569e+11</td></tr><tr><td>Y</td><td>N</td><td>Y</td><td>862336</td><td>80295343639.0</td></tr><tr><td>Y</td><td>N</td><td>N</td><td>3265163</td><td>1.53867438135e+11</td></tr><tr><td>Y</td><td>Y</td><td>Y</td><td>62597</td><td>5086157754.65</td></tr><tr><td>Y</td><td>Y</td><td>N</td><td>118870</td><td>9146319463.28</td></tr></table></div>\n",
       "    <br />(rows: 8, time: 0.6s, cached, job: job_Qh4DhmZZecFIWeF7Wlah0cQwfSM)<br />\n",
       "    <script>\n",
       "      require(['extensions/charting', 'element!9_146516670582', 'style!/static/extensions/charting.css'],\n",
       "        function(charts, dom) {\n",
       "          charts.render(dom,\n",
       "            {\n",
       "              chartStyle:\"table\",\n",
       "              dataName:\"8\",\n",
       "              fields:\"womenownedflag,veteranownedflag,minorityownedbusinessflag,transactions,sum_dollarsobligated\",\n",
       "              totalRows:8,\n",
       "              rowsPerPage:25,\n",
       "            }, {}, {\"rows\": [{\"c\": [{\"v\": \"N\"}, {\"v\": \"N\"}, {\"v\": \"Y\"}, {\"v\": 2051978}, {\"v\": 270617792041.41986}]}, {\"c\": [{\"v\": \"N\"}, {\"v\": \"N\"}, {\"v\": \"N\"}, {\"v\": 35286333}, {\"v\": 5914382622147.547}]}, {\"c\": [{\"v\": \"N\"}, {\"v\": \"Y\"}, {\"v\": \"Y\"}, {\"v\": 494617}, {\"v\": 61028950046.22998}]}, {\"c\": [{\"v\": \"N\"}, {\"v\": \"Y\"}, {\"v\": \"N\"}, {\"v\": 2359047}, {\"v\": 159152989569.08}]}, {\"c\": [{\"v\": \"Y\"}, {\"v\": \"N\"}, {\"v\": \"Y\"}, {\"v\": 862336}, {\"v\": 80295343639.02997}]}, {\"c\": [{\"v\": \"Y\"}, {\"v\": \"N\"}, {\"v\": \"N\"}, {\"v\": 3265163}, {\"v\": 153867438135.33017}]}, {\"c\": [{\"v\": \"Y\"}, {\"v\": \"Y\"}, {\"v\": \"Y\"}, {\"v\": 62597}, {\"v\": 5086157754.6500025}]}, {\"c\": [{\"v\": \"Y\"}, {\"v\": \"Y\"}, {\"v\": \"N\"}, {\"v\": 118870}, {\"v\": 9146319463.28}]}], \"cols\": [{\"type\": \"string\", \"id\": \"womenownedflag\", \"label\": \"womenownedflag\"}, {\"type\": \"string\", \"id\": \"veteranownedflag\", \"label\": \"veteranownedflag\"}, {\"type\": \"string\", \"id\": \"minorityownedbusinessflag\", \"label\": \"minorityownedbusinessflag\"}, {\"type\": \"number\", \"id\": \"transactions\", \"label\": \"transactions\"}, {\"type\": \"number\", \"id\": \"sum_dollarsobligated\", \"label\": \"sum_dollarsobligated\"}]});\n",
       "        }\n",
       "      );\n",
       "    </script>\n",
       "  "
      ],
      "text/plain": [
       "QueryResultsTable job_Qh4DhmZZecFIWeF7Wlah0cQwfSM"
      ]
     },
     "execution_count": 14,
     "metadata": {},
     "output_type": "execute_result"
    }
   ],
   "source": [
    "%%sql\n",
    "select\n",
    "  womenownedflag, veteranownedflag, minorityownedbusinessflag,\n",
    "  count(*) transactions,\n",
    "  sum(dollarsobligated) sum_dollarsobligated\n",
    "from\n",
    "  gpqueries:contracts.raw\n",
    "group by\n",
    "  womenownedflag, veteranownedflag, minorityownedbusinessflag\n",
    "order by\n",
    "  womenownedflag, veteranownedflag, minorityownedbusinessflag desc"
   ]
  },
  {
   "cell_type": "markdown",
   "metadata": {},
   "source": [
    "For example, firms owned by women, veterans, and minorities (all represented at the same time) sell $5bn in goods and services. That's 0.07% of all government purchases."
   ]
  },
  {
   "cell_type": "markdown",
   "metadata": {},
   "source": [
    "### New Vendors Emerge Each Year"
   ]
  },
  {
   "cell_type": "markdown",
   "metadata": {},
   "source": [
    "Becoming a government contractor may seem difficult at first, but let's see how many new contractors the government had in 2015."
   ]
  },
  {
   "cell_type": "code",
   "execution_count": 15,
   "metadata": {
    "collapsed": false
   },
   "outputs": [
    {
     "data": {
      "text/html": [
       "\n",
       "    <div class=\"bqtv\" id=\"10_146516670749\"><table><tr><th>new_vendors</th><th>old_vendors</th></tr><tr><td>18258</td><td>131537</td></tr></table></div>\n",
       "    <br />(rows: 1, time: 0.7s, cached, job: job_OjFASl4YsdPFMqmG63vz8lXqgzc)<br />\n",
       "    <script>\n",
       "      require(['extensions/charting', 'element!10_146516670749', 'style!/static/extensions/charting.css'],\n",
       "        function(charts, dom) {\n",
       "          charts.render(dom,\n",
       "            {\n",
       "              chartStyle:\"table\",\n",
       "              dataName:\"9\",\n",
       "              fields:\"new_vendors,old_vendors\",\n",
       "              totalRows:1,\n",
       "              rowsPerPage:25,\n",
       "            }, {}, {\"rows\": [{\"c\": [{\"v\": 18258}, {\"v\": 131537}]}], \"cols\": [{\"type\": \"number\", \"id\": \"new_vendors\", \"label\": \"new_vendors\"}, {\"type\": \"number\", \"id\": \"old_vendors\", \"label\": \"old_vendors\"}]});\n",
       "        }\n",
       "      );\n",
       "    </script>\n",
       "  "
      ],
      "text/plain": [
       "QueryResultsTable job_OjFASl4YsdPFMqmG63vz8lXqgzc"
      ]
     },
     "execution_count": 15,
     "metadata": {},
     "output_type": "execute_result"
    }
   ],
   "source": [
    "%%sql\n",
    "select\n",
    "  sum(if(before2015.dunsnumber is null, 1, 0)) new_vendors,\n",
    "  sum(if(before2015.dunsnumber is null, 0, 1)) old_vendors\n",
    "from\n",
    "  flatten((select unique(dunsnumber) dunsnumber from gpqueries:contracts.raw where fiscal_year = 2015), dunsnumber) in2015\n",
    "left join\n",
    "  flatten((select unique(dunsnumber) dunsnumber from gpqueries:contracts.raw where fiscal_year < 2015), dunsnumber) before2015\n",
    "  on before2015.dunsnumber = in2015.dunsnumber"
   ]
  },
  {
   "cell_type": "markdown",
   "metadata": {},
   "source": [
    "(The variable `dunsnumber` refers to the unique number each contractor obtains at [SAM.gov](https://www.sam.gov/portal/SAM/). It identifies unique contractors better than `vendorname`, which varies.)\n",
    "\n",
    "In 2015, 12% of the suppliers turned out to be companies that had never sold to the government."
   ]
  },
  {
   "cell_type": "markdown",
   "metadata": {},
   "source": [
    "## More\n",
    "\n",
    "This was a short intro to government contracting data.\n",
    "\n",
    "For more, check the [Government Procurement Queries](https://github.com/antontarasenko/gpq) project."
   ]
  },
  {
   "cell_type": "markdown",
   "metadata": {},
   "source": [
    "## Contacts"
   ]
  },
  {
   "cell_type": "markdown",
   "metadata": {},
   "source": [
    "Anton Tarasenko\n",
    "\n",
    "<mailto:antontarasenko@gmail.com>\n",
    "\n",
    "<http://antontarasenko.com>\n",
    "\n"
   ]
  }
 ],
 "metadata": {
  "kernelspec": {
   "display_name": "Python 2",
   "language": "python",
   "name": "python2"
  },
  "language_info": {
   "codemirror_mode": {
    "name": "ipython",
    "version": 2
   },
   "file_extension": ".py",
   "mimetype": "text/x-python",
   "name": "python",
   "nbconvert_exporter": "python",
   "pygments_lexer": "ipython2",
   "version": "2.7.9"
  }
 },
 "nbformat": 4,
 "nbformat_minor": 0
}
